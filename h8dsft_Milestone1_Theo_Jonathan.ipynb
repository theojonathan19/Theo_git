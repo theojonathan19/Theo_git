{
  "nbformat": 4,
  "nbformat_minor": 0,
  "metadata": {
    "colab": {
      "provenance": []
    },
    "kernelspec": {
      "name": "python3",
      "display_name": "Python 3"
    },
    "language_info": {
      "name": "python"
    }
  },
  "cells": [
    {
      "cell_type": "markdown",
      "source": [
        "#Milestone 1"
      ],
      "metadata": {
        "id": "qFLxAIxvn9f_"
      }
    },
    {
      "cell_type": "markdown",
      "source": [
        "#Perkenalan\n",
        "\n",
        "Nama saya Theo Jonathan dari FTDS Batch 018. Milestone 1 ini dibuat untuk memenuhi tugas akhir di Phase 0 sebagai penilaian hasil pembelajaran dari week 1 sampai dengan week 4. Topik yang saya pilih dan yang akan saya anilisis adalah Bikeshare di kota San Francisco. Analisis saya adalah untuk memberi laporan kinerja Bikeshare di San Francisco kepada para petinggi aplikasi Bikeshare, yang akan digunakan untuk menentukan langkah selanjutnya dalam bisnis mereka."
      ],
      "metadata": {
        "id": "yPuLGhhKoyEl"
      }
    },
    {
      "cell_type": "markdown",
      "source": [
        "#Identifikasi Masalah\n",
        "\n",
        "Saya adalah seorang Data Analis yang bekerja untuk Bikeshare. Para petinggi Bikeshare meminta saya untuk membuat dan menganalisis laporan kinerja aplikasi Bikeshare khususnya di kota San Francisco dari awal berjalannya sistem di tahun 2013 sampai tahun 2018. \n",
        "\n",
        "##Topik Permasalahan\n",
        "\n",
        "Mencari tahu apa yang bisa dilakukan oleh sistem Bikeshare untuk meningkatkan kinerja performa aplikasi mereka dan langkah-langkah apa yang harus diambil untuk mencapai tujuan tersebut.\n",
        "\n",
        "##Problem Statement\n",
        "\n",
        "Mengetahui kinerja sistem Bikeshare dan perilaku konsumen terhadap sistem Bikeshare di San Francisco dari tahun 2013 sampai tahun 2018.\n",
        "\n",
        "##Latar Belakang Permasalahan\n",
        "\n",
        "Melihat banyaknya pengguna sistem Bikeshare di San Francisco, para petinggi ingin lebih meningkatkan lagi layanan mereka agar sistem Bikeshare bisa terus berjalan dan semakin banyak pengguna.\n",
        "\n",
        "##Poin Penjabaran\n",
        "\n",
        "1. Mencari tahu rentang waktu pengambilan data\n",
        "\n",
        "2. Berapa lama rata-rata waktu pengguna menggunakan Bikeshare?\n",
        "\n",
        "3. Dari total pengguna Bikeshare, ada berapa banyak pengguna yang merupakan subscriber (memiliki subscription untuk Bikeshare)?\n",
        "\n",
        "4. Station di kota San Francisco yang paling banyak menjadi pilihan pengguna Bikeshare untuk memulai perjalanan mereka?\n",
        "\n",
        "5. Station di kota San Francisco yang paling banyak menjadi pilihan pengguna Bikeshare untuk mengakhiri perjalanan mereka?\n",
        "\n",
        "6. Berapa lama potensi durasi waktu yang ditempuh pengguna Bikeshare yang diprediksikan bisa dicapai di akhir tahun 2018?"
      ],
      "metadata": {
        "id": "5GRrZpB5s_Ab"
      }
    },
    {
      "cell_type": "markdown",
      "source": [
        "#Data Loading"
      ],
      "metadata": {
        "id": "rZW5tmbKtiSo"
      }
    },
    {
      "cell_type": "code",
      "source": [
        "#Import library yang akan digunakan\n",
        "from scipy import stats\n",
        "import numpy as np\n",
        "%matplotlib inline\n",
        "import matplotlib\n",
        "import matplotlib.pyplot as plt\n",
        "import sklearn\n",
        "import seaborn as sns\n",
        "np.random.seed(10)\n",
        "\n",
        "from google.cloud import bigquery\n",
        "from google.oauth2 import service_account\n",
        "import pandas as pd\n",
        "from google.colab import auth\n",
        "auth.authenticate_user()\n",
        "print('Authenticated')\n",
        "\n",
        "project_id = \"my-project-sql-376307\" \n",
        "client = bigquery.Client(project=project_id)\n",
        "     "
      ],
      "metadata": {
        "id": "jYb6rWY_53jM",
        "colab": {
          "base_uri": "https://localhost:8080/"
        },
        "outputId": "e97de718-e9f8-4e90-dc98-f0de7ed54408"
      },
      "execution_count": 1,
      "outputs": [
        {
          "output_type": "stream",
          "name": "stdout",
          "text": [
            "Authenticated\n"
          ]
        }
      ]
    },
    {
      "cell_type": "code",
      "source": [
        "df = client.query('''\n",
        "SELECT *\n",
        "FROM `bigquery-public-data.san_francisco_bikeshare.bikeshare_trips`\n",
        "''').to_dataframe()\n",
        "df\n",
        "#Sumber referensi dari BigQuery Google Cloud"
      ],
      "metadata": {
        "id": "t3FwfoMpEbJ5",
        "colab": {
          "base_uri": "https://localhost:8080/",
          "height": 834
        },
        "outputId": "cb2199fa-d6c5-46e0-b82e-e601f8e4e812"
      },
      "execution_count": 2,
      "outputs": [
        {
          "output_type": "execute_result",
          "data": {
            "text/plain": [
              "                           trip_id  duration_sec  \\\n",
              "0                           962137           316   \n",
              "1                           982499           327   \n",
              "2                           975535           279   \n",
              "3                           740713         46072   \n",
              "4                            10885          5503   \n",
              "...                            ...           ...   \n",
              "1947412   20180326172100.602000671          3021   \n",
              "1947413  20180221171009.0030003619          2988   \n",
              "1947414  20171209001043.1720002652          1995   \n",
              "1947415  20180214134114.6830003624          2645   \n",
              "1947416  20180411001920.8510001930          1103   \n",
              "\n",
              "                              start_date  \\\n",
              "0              2015-10-08 08:17:00+00:00   \n",
              "1              2015-10-23 08:12:00+00:00   \n",
              "2              2015-10-19 08:15:00+00:00   \n",
              "3              2015-04-25 11:15:00+00:00   \n",
              "4              2013-09-04 16:07:00+00:00   \n",
              "...                                  ...   \n",
              "1947412 2018-03-26 17:21:00.602000+00:00   \n",
              "1947413 2018-02-21 17:10:09.003000+00:00   \n",
              "1947414 2017-12-09 00:10:43.172000+00:00   \n",
              "1947415 2018-02-14 13:41:14.683000+00:00   \n",
              "1947416 2018-04-11 00:19:20.851000+00:00   \n",
              "\n",
              "                                        start_station_name  start_station_id  \\\n",
              "0                                                    Mezes                83   \n",
              "1                                                    Mezes                83   \n",
              "2                                                    Mezes                83   \n",
              "3                                                Japantown                 9   \n",
              "4                                                Japantown                 9   \n",
              "...                                                    ...               ...   \n",
              "1947412  Civic Center/UN Plaza BART Station (Market St ...                44   \n",
              "1947413  Civic Center/UN Plaza BART Station (Market St ...                44   \n",
              "1947414  Civic Center/UN Plaza BART Station (Market St ...                44   \n",
              "1947415  Civic Center/UN Plaza BART Station (Market St ...                44   \n",
              "1947416  Civic Center/UN Plaza BART Station (Market St ...                44   \n",
              "\n",
              "                                end_date  \\\n",
              "0              2015-10-08 08:22:00+00:00   \n",
              "1              2015-10-23 08:17:00+00:00   \n",
              "2              2015-10-19 08:20:00+00:00   \n",
              "3              2015-04-26 00:03:00+00:00   \n",
              "4              2013-09-04 17:38:00+00:00   \n",
              "...                                  ...   \n",
              "1947412 2018-03-26 18:11:21.775000+00:00   \n",
              "1947413 2018-02-21 17:59:57.795000+00:00   \n",
              "1947414 2017-12-09 00:43:58.593000+00:00   \n",
              "1947415 2018-02-14 14:25:20.212000+00:00   \n",
              "1947416 2018-04-11 00:37:44.234000+00:00   \n",
              "\n",
              "                                          end_station_name  end_station_id  \\\n",
              "0                            Redwood City Caltrain Station              22   \n",
              "1                            Redwood City Caltrain Station              22   \n",
              "2                            Redwood City Caltrain Station              22   \n",
              "3                                                Japantown               9   \n",
              "4                                                Japantown               9   \n",
              "...                                                    ...             ...   \n",
              "1947412  Civic Center/UN Plaza BART Station (Market St ...              44   \n",
              "1947413  Civic Center/UN Plaza BART Station (Market St ...              44   \n",
              "1947414  Civic Center/UN Plaza BART Station (Market St ...              44   \n",
              "1947415  Civic Center/UN Plaza BART Station (Market St ...              44   \n",
              "1947416  Civic Center/UN Plaza BART Station (Market St ...              44   \n",
              "\n",
              "         bike_number zip_code  ... c_subscription_type start_station_latitude  \\\n",
              "0                102    94063  ...          Subscriber                    NaN   \n",
              "1                155    94063  ...          Subscriber                    NaN   \n",
              "2                650    94063  ...          Subscriber                    NaN   \n",
              "3                256    95112  ...            Customer                    NaN   \n",
              "4                 44    95112  ...            Customer                    NaN   \n",
              "...              ...      ...  ...                 ...                    ...   \n",
              "1947412          671     None  ...                None              37.781074   \n",
              "1947413         3619     None  ...                None              37.781074   \n",
              "1947414         2652     None  ...                None              37.781074   \n",
              "1947415         3624     None  ...                None              37.781074   \n",
              "1947416         1930     None  ...                None              37.781074   \n",
              "\n",
              "         start_station_longitude  end_station_latitude  end_station_longitude  \\\n",
              "0                            NaN                   NaN                    NaN   \n",
              "1                            NaN                   NaN                    NaN   \n",
              "2                            NaN                   NaN                    NaN   \n",
              "3                            NaN                   NaN                    NaN   \n",
              "4                            NaN                   NaN                    NaN   \n",
              "...                          ...                   ...                    ...   \n",
              "1947412              -122.411738             37.781074            -122.411738   \n",
              "1947413              -122.411738             37.781074            -122.411738   \n",
              "1947414              -122.411738             37.781074            -122.411738   \n",
              "1947415              -122.411738             37.781074            -122.411738   \n",
              "1947416              -122.411738             37.781074            -122.411738   \n",
              "\n",
              "         member_birth_year  member_gender bike_share_for_all_trip  \\\n",
              "0                     <NA>           None                    None   \n",
              "1                     <NA>           None                    None   \n",
              "2                     <NA>           None                    None   \n",
              "3                     <NA>           None                    None   \n",
              "4                     <NA>           None                    None   \n",
              "...                    ...            ...                     ...   \n",
              "1947412               1959           Male                     Yes   \n",
              "1947413               1959           Male                     Yes   \n",
              "1947414               1960           Male                    None   \n",
              "1947415               1959           Male                     Yes   \n",
              "1947416               1959           Male                     Yes   \n",
              "\n",
              "                     start_station_geom                end_station_geom  \n",
              "0                                  None                            None  \n",
              "1                                  None                            None  \n",
              "2                                  None                            None  \n",
              "3                                  None                            None  \n",
              "4                                  None                            None  \n",
              "...                                 ...                             ...  \n",
              "1947412  POINT(-122.4117382 37.7810737)  POINT(-122.4117382 37.7810737)  \n",
              "1947413  POINT(-122.4117382 37.7810737)  POINT(-122.4117382 37.7810737)  \n",
              "1947414  POINT(-122.4117382 37.7810737)  POINT(-122.4117382 37.7810737)  \n",
              "1947415  POINT(-122.4117382 37.7810737)  POINT(-122.4117382 37.7810737)  \n",
              "1947416  POINT(-122.4117382 37.7810737)  POINT(-122.4117382 37.7810737)  \n",
              "\n",
              "[1947417 rows x 21 columns]"
            ],
            "text/html": [
              "\n",
              "  <div id=\"df-3ca68177-dc64-40b9-a1af-b4383fe1df8f\">\n",
              "    <div class=\"colab-df-container\">\n",
              "      <div>\n",
              "<style scoped>\n",
              "    .dataframe tbody tr th:only-of-type {\n",
              "        vertical-align: middle;\n",
              "    }\n",
              "\n",
              "    .dataframe tbody tr th {\n",
              "        vertical-align: top;\n",
              "    }\n",
              "\n",
              "    .dataframe thead th {\n",
              "        text-align: right;\n",
              "    }\n",
              "</style>\n",
              "<table border=\"1\" class=\"dataframe\">\n",
              "  <thead>\n",
              "    <tr style=\"text-align: right;\">\n",
              "      <th></th>\n",
              "      <th>trip_id</th>\n",
              "      <th>duration_sec</th>\n",
              "      <th>start_date</th>\n",
              "      <th>start_station_name</th>\n",
              "      <th>start_station_id</th>\n",
              "      <th>end_date</th>\n",
              "      <th>end_station_name</th>\n",
              "      <th>end_station_id</th>\n",
              "      <th>bike_number</th>\n",
              "      <th>zip_code</th>\n",
              "      <th>...</th>\n",
              "      <th>c_subscription_type</th>\n",
              "      <th>start_station_latitude</th>\n",
              "      <th>start_station_longitude</th>\n",
              "      <th>end_station_latitude</th>\n",
              "      <th>end_station_longitude</th>\n",
              "      <th>member_birth_year</th>\n",
              "      <th>member_gender</th>\n",
              "      <th>bike_share_for_all_trip</th>\n",
              "      <th>start_station_geom</th>\n",
              "      <th>end_station_geom</th>\n",
              "    </tr>\n",
              "  </thead>\n",
              "  <tbody>\n",
              "    <tr>\n",
              "      <th>0</th>\n",
              "      <td>962137</td>\n",
              "      <td>316</td>\n",
              "      <td>2015-10-08 08:17:00+00:00</td>\n",
              "      <td>Mezes</td>\n",
              "      <td>83</td>\n",
              "      <td>2015-10-08 08:22:00+00:00</td>\n",
              "      <td>Redwood City Caltrain Station</td>\n",
              "      <td>22</td>\n",
              "      <td>102</td>\n",
              "      <td>94063</td>\n",
              "      <td>...</td>\n",
              "      <td>Subscriber</td>\n",
              "      <td>NaN</td>\n",
              "      <td>NaN</td>\n",
              "      <td>NaN</td>\n",
              "      <td>NaN</td>\n",
              "      <td>&lt;NA&gt;</td>\n",
              "      <td>None</td>\n",
              "      <td>None</td>\n",
              "      <td>None</td>\n",
              "      <td>None</td>\n",
              "    </tr>\n",
              "    <tr>\n",
              "      <th>1</th>\n",
              "      <td>982499</td>\n",
              "      <td>327</td>\n",
              "      <td>2015-10-23 08:12:00+00:00</td>\n",
              "      <td>Mezes</td>\n",
              "      <td>83</td>\n",
              "      <td>2015-10-23 08:17:00+00:00</td>\n",
              "      <td>Redwood City Caltrain Station</td>\n",
              "      <td>22</td>\n",
              "      <td>155</td>\n",
              "      <td>94063</td>\n",
              "      <td>...</td>\n",
              "      <td>Subscriber</td>\n",
              "      <td>NaN</td>\n",
              "      <td>NaN</td>\n",
              "      <td>NaN</td>\n",
              "      <td>NaN</td>\n",
              "      <td>&lt;NA&gt;</td>\n",
              "      <td>None</td>\n",
              "      <td>None</td>\n",
              "      <td>None</td>\n",
              "      <td>None</td>\n",
              "    </tr>\n",
              "    <tr>\n",
              "      <th>2</th>\n",
              "      <td>975535</td>\n",
              "      <td>279</td>\n",
              "      <td>2015-10-19 08:15:00+00:00</td>\n",
              "      <td>Mezes</td>\n",
              "      <td>83</td>\n",
              "      <td>2015-10-19 08:20:00+00:00</td>\n",
              "      <td>Redwood City Caltrain Station</td>\n",
              "      <td>22</td>\n",
              "      <td>650</td>\n",
              "      <td>94063</td>\n",
              "      <td>...</td>\n",
              "      <td>Subscriber</td>\n",
              "      <td>NaN</td>\n",
              "      <td>NaN</td>\n",
              "      <td>NaN</td>\n",
              "      <td>NaN</td>\n",
              "      <td>&lt;NA&gt;</td>\n",
              "      <td>None</td>\n",
              "      <td>None</td>\n",
              "      <td>None</td>\n",
              "      <td>None</td>\n",
              "    </tr>\n",
              "    <tr>\n",
              "      <th>3</th>\n",
              "      <td>740713</td>\n",
              "      <td>46072</td>\n",
              "      <td>2015-04-25 11:15:00+00:00</td>\n",
              "      <td>Japantown</td>\n",
              "      <td>9</td>\n",
              "      <td>2015-04-26 00:03:00+00:00</td>\n",
              "      <td>Japantown</td>\n",
              "      <td>9</td>\n",
              "      <td>256</td>\n",
              "      <td>95112</td>\n",
              "      <td>...</td>\n",
              "      <td>Customer</td>\n",
              "      <td>NaN</td>\n",
              "      <td>NaN</td>\n",
              "      <td>NaN</td>\n",
              "      <td>NaN</td>\n",
              "      <td>&lt;NA&gt;</td>\n",
              "      <td>None</td>\n",
              "      <td>None</td>\n",
              "      <td>None</td>\n",
              "      <td>None</td>\n",
              "    </tr>\n",
              "    <tr>\n",
              "      <th>4</th>\n",
              "      <td>10885</td>\n",
              "      <td>5503</td>\n",
              "      <td>2013-09-04 16:07:00+00:00</td>\n",
              "      <td>Japantown</td>\n",
              "      <td>9</td>\n",
              "      <td>2013-09-04 17:38:00+00:00</td>\n",
              "      <td>Japantown</td>\n",
              "      <td>9</td>\n",
              "      <td>44</td>\n",
              "      <td>95112</td>\n",
              "      <td>...</td>\n",
              "      <td>Customer</td>\n",
              "      <td>NaN</td>\n",
              "      <td>NaN</td>\n",
              "      <td>NaN</td>\n",
              "      <td>NaN</td>\n",
              "      <td>&lt;NA&gt;</td>\n",
              "      <td>None</td>\n",
              "      <td>None</td>\n",
              "      <td>None</td>\n",
              "      <td>None</td>\n",
              "    </tr>\n",
              "    <tr>\n",
              "      <th>...</th>\n",
              "      <td>...</td>\n",
              "      <td>...</td>\n",
              "      <td>...</td>\n",
              "      <td>...</td>\n",
              "      <td>...</td>\n",
              "      <td>...</td>\n",
              "      <td>...</td>\n",
              "      <td>...</td>\n",
              "      <td>...</td>\n",
              "      <td>...</td>\n",
              "      <td>...</td>\n",
              "      <td>...</td>\n",
              "      <td>...</td>\n",
              "      <td>...</td>\n",
              "      <td>...</td>\n",
              "      <td>...</td>\n",
              "      <td>...</td>\n",
              "      <td>...</td>\n",
              "      <td>...</td>\n",
              "      <td>...</td>\n",
              "      <td>...</td>\n",
              "    </tr>\n",
              "    <tr>\n",
              "      <th>1947412</th>\n",
              "      <td>20180326172100.602000671</td>\n",
              "      <td>3021</td>\n",
              "      <td>2018-03-26 17:21:00.602000+00:00</td>\n",
              "      <td>Civic Center/UN Plaza BART Station (Market St ...</td>\n",
              "      <td>44</td>\n",
              "      <td>2018-03-26 18:11:21.775000+00:00</td>\n",
              "      <td>Civic Center/UN Plaza BART Station (Market St ...</td>\n",
              "      <td>44</td>\n",
              "      <td>671</td>\n",
              "      <td>None</td>\n",
              "      <td>...</td>\n",
              "      <td>None</td>\n",
              "      <td>37.781074</td>\n",
              "      <td>-122.411738</td>\n",
              "      <td>37.781074</td>\n",
              "      <td>-122.411738</td>\n",
              "      <td>1959</td>\n",
              "      <td>Male</td>\n",
              "      <td>Yes</td>\n",
              "      <td>POINT(-122.4117382 37.7810737)</td>\n",
              "      <td>POINT(-122.4117382 37.7810737)</td>\n",
              "    </tr>\n",
              "    <tr>\n",
              "      <th>1947413</th>\n",
              "      <td>20180221171009.0030003619</td>\n",
              "      <td>2988</td>\n",
              "      <td>2018-02-21 17:10:09.003000+00:00</td>\n",
              "      <td>Civic Center/UN Plaza BART Station (Market St ...</td>\n",
              "      <td>44</td>\n",
              "      <td>2018-02-21 17:59:57.795000+00:00</td>\n",
              "      <td>Civic Center/UN Plaza BART Station (Market St ...</td>\n",
              "      <td>44</td>\n",
              "      <td>3619</td>\n",
              "      <td>None</td>\n",
              "      <td>...</td>\n",
              "      <td>None</td>\n",
              "      <td>37.781074</td>\n",
              "      <td>-122.411738</td>\n",
              "      <td>37.781074</td>\n",
              "      <td>-122.411738</td>\n",
              "      <td>1959</td>\n",
              "      <td>Male</td>\n",
              "      <td>Yes</td>\n",
              "      <td>POINT(-122.4117382 37.7810737)</td>\n",
              "      <td>POINT(-122.4117382 37.7810737)</td>\n",
              "    </tr>\n",
              "    <tr>\n",
              "      <th>1947414</th>\n",
              "      <td>20171209001043.1720002652</td>\n",
              "      <td>1995</td>\n",
              "      <td>2017-12-09 00:10:43.172000+00:00</td>\n",
              "      <td>Civic Center/UN Plaza BART Station (Market St ...</td>\n",
              "      <td>44</td>\n",
              "      <td>2017-12-09 00:43:58.593000+00:00</td>\n",
              "      <td>Civic Center/UN Plaza BART Station (Market St ...</td>\n",
              "      <td>44</td>\n",
              "      <td>2652</td>\n",
              "      <td>None</td>\n",
              "      <td>...</td>\n",
              "      <td>None</td>\n",
              "      <td>37.781074</td>\n",
              "      <td>-122.411738</td>\n",
              "      <td>37.781074</td>\n",
              "      <td>-122.411738</td>\n",
              "      <td>1960</td>\n",
              "      <td>Male</td>\n",
              "      <td>None</td>\n",
              "      <td>POINT(-122.4117382 37.7810737)</td>\n",
              "      <td>POINT(-122.4117382 37.7810737)</td>\n",
              "    </tr>\n",
              "    <tr>\n",
              "      <th>1947415</th>\n",
              "      <td>20180214134114.6830003624</td>\n",
              "      <td>2645</td>\n",
              "      <td>2018-02-14 13:41:14.683000+00:00</td>\n",
              "      <td>Civic Center/UN Plaza BART Station (Market St ...</td>\n",
              "      <td>44</td>\n",
              "      <td>2018-02-14 14:25:20.212000+00:00</td>\n",
              "      <td>Civic Center/UN Plaza BART Station (Market St ...</td>\n",
              "      <td>44</td>\n",
              "      <td>3624</td>\n",
              "      <td>None</td>\n",
              "      <td>...</td>\n",
              "      <td>None</td>\n",
              "      <td>37.781074</td>\n",
              "      <td>-122.411738</td>\n",
              "      <td>37.781074</td>\n",
              "      <td>-122.411738</td>\n",
              "      <td>1959</td>\n",
              "      <td>Male</td>\n",
              "      <td>Yes</td>\n",
              "      <td>POINT(-122.4117382 37.7810737)</td>\n",
              "      <td>POINT(-122.4117382 37.7810737)</td>\n",
              "    </tr>\n",
              "    <tr>\n",
              "      <th>1947416</th>\n",
              "      <td>20180411001920.8510001930</td>\n",
              "      <td>1103</td>\n",
              "      <td>2018-04-11 00:19:20.851000+00:00</td>\n",
              "      <td>Civic Center/UN Plaza BART Station (Market St ...</td>\n",
              "      <td>44</td>\n",
              "      <td>2018-04-11 00:37:44.234000+00:00</td>\n",
              "      <td>Civic Center/UN Plaza BART Station (Market St ...</td>\n",
              "      <td>44</td>\n",
              "      <td>1930</td>\n",
              "      <td>None</td>\n",
              "      <td>...</td>\n",
              "      <td>None</td>\n",
              "      <td>37.781074</td>\n",
              "      <td>-122.411738</td>\n",
              "      <td>37.781074</td>\n",
              "      <td>-122.411738</td>\n",
              "      <td>1959</td>\n",
              "      <td>Male</td>\n",
              "      <td>Yes</td>\n",
              "      <td>POINT(-122.4117382 37.7810737)</td>\n",
              "      <td>POINT(-122.4117382 37.7810737)</td>\n",
              "    </tr>\n",
              "  </tbody>\n",
              "</table>\n",
              "<p>1947417 rows × 21 columns</p>\n",
              "</div>\n",
              "      <button class=\"colab-df-convert\" onclick=\"convertToInteractive('df-3ca68177-dc64-40b9-a1af-b4383fe1df8f')\"\n",
              "              title=\"Convert this dataframe to an interactive table.\"\n",
              "              style=\"display:none;\">\n",
              "        \n",
              "  <svg xmlns=\"http://www.w3.org/2000/svg\" height=\"24px\"viewBox=\"0 0 24 24\"\n",
              "       width=\"24px\">\n",
              "    <path d=\"M0 0h24v24H0V0z\" fill=\"none\"/>\n",
              "    <path d=\"M18.56 5.44l.94 2.06.94-2.06 2.06-.94-2.06-.94-.94-2.06-.94 2.06-2.06.94zm-11 1L8.5 8.5l.94-2.06 2.06-.94-2.06-.94L8.5 2.5l-.94 2.06-2.06.94zm10 10l.94 2.06.94-2.06 2.06-.94-2.06-.94-.94-2.06-.94 2.06-2.06.94z\"/><path d=\"M17.41 7.96l-1.37-1.37c-.4-.4-.92-.59-1.43-.59-.52 0-1.04.2-1.43.59L10.3 9.45l-7.72 7.72c-.78.78-.78 2.05 0 2.83L4 21.41c.39.39.9.59 1.41.59.51 0 1.02-.2 1.41-.59l7.78-7.78 2.81-2.81c.8-.78.8-2.07 0-2.86zM5.41 20L4 18.59l7.72-7.72 1.47 1.35L5.41 20z\"/>\n",
              "  </svg>\n",
              "      </button>\n",
              "      \n",
              "  <style>\n",
              "    .colab-df-container {\n",
              "      display:flex;\n",
              "      flex-wrap:wrap;\n",
              "      gap: 12px;\n",
              "    }\n",
              "\n",
              "    .colab-df-convert {\n",
              "      background-color: #E8F0FE;\n",
              "      border: none;\n",
              "      border-radius: 50%;\n",
              "      cursor: pointer;\n",
              "      display: none;\n",
              "      fill: #1967D2;\n",
              "      height: 32px;\n",
              "      padding: 0 0 0 0;\n",
              "      width: 32px;\n",
              "    }\n",
              "\n",
              "    .colab-df-convert:hover {\n",
              "      background-color: #E2EBFA;\n",
              "      box-shadow: 0px 1px 2px rgba(60, 64, 67, 0.3), 0px 1px 3px 1px rgba(60, 64, 67, 0.15);\n",
              "      fill: #174EA6;\n",
              "    }\n",
              "\n",
              "    [theme=dark] .colab-df-convert {\n",
              "      background-color: #3B4455;\n",
              "      fill: #D2E3FC;\n",
              "    }\n",
              "\n",
              "    [theme=dark] .colab-df-convert:hover {\n",
              "      background-color: #434B5C;\n",
              "      box-shadow: 0px 1px 3px 1px rgba(0, 0, 0, 0.15);\n",
              "      filter: drop-shadow(0px 1px 2px rgba(0, 0, 0, 0.3));\n",
              "      fill: #FFFFFF;\n",
              "    }\n",
              "  </style>\n",
              "\n",
              "      <script>\n",
              "        const buttonEl =\n",
              "          document.querySelector('#df-3ca68177-dc64-40b9-a1af-b4383fe1df8f button.colab-df-convert');\n",
              "        buttonEl.style.display =\n",
              "          google.colab.kernel.accessAllowed ? 'block' : 'none';\n",
              "\n",
              "        async function convertToInteractive(key) {\n",
              "          const element = document.querySelector('#df-3ca68177-dc64-40b9-a1af-b4383fe1df8f');\n",
              "          const dataTable =\n",
              "            await google.colab.kernel.invokeFunction('convertToInteractive',\n",
              "                                                     [key], {});\n",
              "          if (!dataTable) return;\n",
              "\n",
              "          const docLinkHtml = 'Like what you see? Visit the ' +\n",
              "            '<a target=\"_blank\" href=https://colab.research.google.com/notebooks/data_table.ipynb>data table notebook</a>'\n",
              "            + ' to learn more about interactive tables.';\n",
              "          element.innerHTML = '';\n",
              "          dataTable['output_type'] = 'display_data';\n",
              "          await google.colab.output.renderOutput(dataTable, element);\n",
              "          const docLink = document.createElement('div');\n",
              "          docLink.innerHTML = docLinkHtml;\n",
              "          element.appendChild(docLink);\n",
              "        }\n",
              "      </script>\n",
              "    </div>\n",
              "  </div>\n",
              "  "
            ]
          },
          "metadata": {},
          "execution_count": 2
        }
      ]
    },
    {
      "cell_type": "markdown",
      "source": [
        "##Eksplorasi Data"
      ],
      "metadata": {
        "id": "LsMDOmzUTT1Q"
      }
    },
    {
      "cell_type": "code",
      "source": [
        "#Mencari tahu jumlah data yang ada\n",
        "len(df)"
      ],
      "metadata": {
        "colab": {
          "base_uri": "https://localhost:8080/"
        },
        "id": "3wgCrxfWVnXb",
        "outputId": "7d508858-6a5b-493c-e28e-66fc56569762"
      },
      "execution_count": 3,
      "outputs": [
        {
          "output_type": "execute_result",
          "data": {
            "text/plain": [
              "1947417"
            ]
          },
          "metadata": {},
          "execution_count": 3
        }
      ]
    },
    {
      "cell_type": "markdown",
      "source": [
        "Terdapat 1.947.417 data di dalam data set"
      ],
      "metadata": {
        "id": "D7xnYOqKVw4Q"
      }
    },
    {
      "cell_type": "code",
      "source": [
        "pd.set_option(\"display.max.columns\", None)"
      ],
      "metadata": {
        "id": "-6aDvUI9Szzm"
      },
      "execution_count": 4,
      "outputs": []
    },
    {
      "cell_type": "code",
      "source": [
        "pd.set_option(\"display.precision\", 2)"
      ],
      "metadata": {
        "id": "SWJidnPeS3xT"
      },
      "execution_count": 5,
      "outputs": []
    },
    {
      "cell_type": "code",
      "source": [
        "df.columns.values "
      ],
      "metadata": {
        "colab": {
          "base_uri": "https://localhost:8080/"
        },
        "id": "U0J22BlmsfXy",
        "outputId": "4faa0e89-1fb4-43b6-c6b5-322de45cc1f5"
      },
      "execution_count": 6,
      "outputs": [
        {
          "output_type": "execute_result",
          "data": {
            "text/plain": [
              "array(['trip_id', 'duration_sec', 'start_date', 'start_station_name',\n",
              "       'start_station_id', 'end_date', 'end_station_name',\n",
              "       'end_station_id', 'bike_number', 'zip_code', 'subscriber_type',\n",
              "       'c_subscription_type', 'start_station_latitude',\n",
              "       'start_station_longitude', 'end_station_latitude',\n",
              "       'end_station_longitude', 'member_birth_year', 'member_gender',\n",
              "       'bike_share_for_all_trip', 'start_station_geom',\n",
              "       'end_station_geom'], dtype=object)"
            ]
          },
          "metadata": {},
          "execution_count": 6
        }
      ]
    },
    {
      "cell_type": "code",
      "source": [
        "df.index.values"
      ],
      "metadata": {
        "colab": {
          "base_uri": "https://localhost:8080/"
        },
        "id": "eBE1QOzesmCf",
        "outputId": "1c909f09-9a9f-4e61-e68e-061ecdf0be5e"
      },
      "execution_count": 7,
      "outputs": [
        {
          "output_type": "execute_result",
          "data": {
            "text/plain": [
              "array([      0,       1,       2, ..., 1947414, 1947415, 1947416])"
            ]
          },
          "metadata": {},
          "execution_count": 7
        }
      ]
    },
    {
      "cell_type": "code",
      "source": [
        "print(type(df.columns))\n",
        "print(type(df.index))"
      ],
      "metadata": {
        "colab": {
          "base_uri": "https://localhost:8080/"
        },
        "id": "va9ZbRhqszob",
        "outputId": "beb14fdd-b91c-4b0e-e0f2-ba202b246bfe"
      },
      "execution_count": 8,
      "outputs": [
        {
          "output_type": "stream",
          "name": "stdout",
          "text": [
            "<class 'pandas.core.indexes.base.Index'>\n",
            "<class 'pandas.core.indexes.range.RangeIndex'>\n"
          ]
        }
      ]
    },
    {
      "cell_type": "code",
      "source": [
        "df.columns.tolist()\n",
        "df.index.tolist()\n",
        "\n",
        "print (type(df.columns.tolist()))\n",
        "print (type(df.index.tolist()))"
      ],
      "metadata": {
        "colab": {
          "base_uri": "https://localhost:8080/"
        },
        "id": "ZzAI2dHxs4rp",
        "outputId": "74b532f5-86c0-44d3-c769-de8e8a88d257"
      },
      "execution_count": 9,
      "outputs": [
        {
          "output_type": "stream",
          "name": "stdout",
          "text": [
            "<class 'list'>\n",
            "<class 'list'>\n"
          ]
        }
      ]
    },
    {
      "cell_type": "code",
      "source": [
        "df.columns = list(map(str, df.columns))"
      ],
      "metadata": {
        "id": "qVh1GGgowhFd"
      },
      "execution_count": 10,
      "outputs": []
    },
    {
      "cell_type": "markdown",
      "source": [
        "#Data Cleaning"
      ],
      "metadata": {
        "id": "JRjgsWpAlTOf"
      }
    },
    {
      "cell_type": "code",
      "source": [
        "#Memberi nama baru dari kolom-kolom yang akan digunakan\n",
        "renamed_df = df.rename(\n",
        "    columns={\"trip_id\":\"Trip_ID\",\"duration_sec\": \"Duration\", \"start_date\": \"Starting_Date\", \"start_station_name\": \"Starting_Station\", \"start_station_id\": \"Starting_Station_ID\", \"end_date\": \"Ending_Date\",\n",
        "             \"end_station_name\": \"Ending_Station\", \"end_station_id\": \"Ending_Station_ID\",\"c_subscription_type\":\"Subscription_Type\"}\n",
        ")\n",
        "df = renamed_df.copy()\n",
        "df"
      ],
      "metadata": {
        "id": "tVb9VgndVIVv",
        "colab": {
          "base_uri": "https://localhost:8080/",
          "height": 834
        },
        "outputId": "acde528d-fdc6-4e9a-fbe4-ce812757a39a"
      },
      "execution_count": 11,
      "outputs": [
        {
          "output_type": "execute_result",
          "data": {
            "text/plain": [
              "                           Trip_ID  Duration                    Starting_Date  \\\n",
              "0                           962137       316        2015-10-08 08:17:00+00:00   \n",
              "1                           982499       327        2015-10-23 08:12:00+00:00   \n",
              "2                           975535       279        2015-10-19 08:15:00+00:00   \n",
              "3                           740713     46072        2015-04-25 11:15:00+00:00   \n",
              "4                            10885      5503        2013-09-04 16:07:00+00:00   \n",
              "...                            ...       ...                              ...   \n",
              "1947412   20180326172100.602000671      3021 2018-03-26 17:21:00.602000+00:00   \n",
              "1947413  20180221171009.0030003619      2988 2018-02-21 17:10:09.003000+00:00   \n",
              "1947414  20171209001043.1720002652      1995 2017-12-09 00:10:43.172000+00:00   \n",
              "1947415  20180214134114.6830003624      2645 2018-02-14 13:41:14.683000+00:00   \n",
              "1947416  20180411001920.8510001930      1103 2018-04-11 00:19:20.851000+00:00   \n",
              "\n",
              "                                          Starting_Station  \\\n",
              "0                                                    Mezes   \n",
              "1                                                    Mezes   \n",
              "2                                                    Mezes   \n",
              "3                                                Japantown   \n",
              "4                                                Japantown   \n",
              "...                                                    ...   \n",
              "1947412  Civic Center/UN Plaza BART Station (Market St ...   \n",
              "1947413  Civic Center/UN Plaza BART Station (Market St ...   \n",
              "1947414  Civic Center/UN Plaza BART Station (Market St ...   \n",
              "1947415  Civic Center/UN Plaza BART Station (Market St ...   \n",
              "1947416  Civic Center/UN Plaza BART Station (Market St ...   \n",
              "\n",
              "         Starting_Station_ID                      Ending_Date  \\\n",
              "0                         83        2015-10-08 08:22:00+00:00   \n",
              "1                         83        2015-10-23 08:17:00+00:00   \n",
              "2                         83        2015-10-19 08:20:00+00:00   \n",
              "3                          9        2015-04-26 00:03:00+00:00   \n",
              "4                          9        2013-09-04 17:38:00+00:00   \n",
              "...                      ...                              ...   \n",
              "1947412                   44 2018-03-26 18:11:21.775000+00:00   \n",
              "1947413                   44 2018-02-21 17:59:57.795000+00:00   \n",
              "1947414                   44 2017-12-09 00:43:58.593000+00:00   \n",
              "1947415                   44 2018-02-14 14:25:20.212000+00:00   \n",
              "1947416                   44 2018-04-11 00:37:44.234000+00:00   \n",
              "\n",
              "                                            Ending_Station  Ending_Station_ID  \\\n",
              "0                            Redwood City Caltrain Station                 22   \n",
              "1                            Redwood City Caltrain Station                 22   \n",
              "2                            Redwood City Caltrain Station                 22   \n",
              "3                                                Japantown                  9   \n",
              "4                                                Japantown                  9   \n",
              "...                                                    ...                ...   \n",
              "1947412  Civic Center/UN Plaza BART Station (Market St ...                 44   \n",
              "1947413  Civic Center/UN Plaza BART Station (Market St ...                 44   \n",
              "1947414  Civic Center/UN Plaza BART Station (Market St ...                 44   \n",
              "1947415  Civic Center/UN Plaza BART Station (Market St ...                 44   \n",
              "1947416  Civic Center/UN Plaza BART Station (Market St ...                 44   \n",
              "\n",
              "         bike_number zip_code subscriber_type Subscription_Type  \\\n",
              "0                102    94063             nan        Subscriber   \n",
              "1                155    94063             nan        Subscriber   \n",
              "2                650    94063             nan        Subscriber   \n",
              "3                256    95112             nan          Customer   \n",
              "4                 44    95112             nan          Customer   \n",
              "...              ...      ...             ...               ...   \n",
              "1947412          671     None      Subscriber              None   \n",
              "1947413         3619     None      Subscriber              None   \n",
              "1947414         2652     None      Subscriber              None   \n",
              "1947415         3624     None      Subscriber              None   \n",
              "1947416         1930     None      Subscriber              None   \n",
              "\n",
              "         start_station_latitude  start_station_longitude  \\\n",
              "0                           NaN                      NaN   \n",
              "1                           NaN                      NaN   \n",
              "2                           NaN                      NaN   \n",
              "3                           NaN                      NaN   \n",
              "4                           NaN                      NaN   \n",
              "...                         ...                      ...   \n",
              "1947412                   37.78                  -122.41   \n",
              "1947413                   37.78                  -122.41   \n",
              "1947414                   37.78                  -122.41   \n",
              "1947415                   37.78                  -122.41   \n",
              "1947416                   37.78                  -122.41   \n",
              "\n",
              "         end_station_latitude  end_station_longitude  member_birth_year  \\\n",
              "0                         NaN                    NaN               <NA>   \n",
              "1                         NaN                    NaN               <NA>   \n",
              "2                         NaN                    NaN               <NA>   \n",
              "3                         NaN                    NaN               <NA>   \n",
              "4                         NaN                    NaN               <NA>   \n",
              "...                       ...                    ...                ...   \n",
              "1947412                 37.78                -122.41               1959   \n",
              "1947413                 37.78                -122.41               1959   \n",
              "1947414                 37.78                -122.41               1960   \n",
              "1947415                 37.78                -122.41               1959   \n",
              "1947416                 37.78                -122.41               1959   \n",
              "\n",
              "        member_gender bike_share_for_all_trip              start_station_geom  \\\n",
              "0                None                    None                            None   \n",
              "1                None                    None                            None   \n",
              "2                None                    None                            None   \n",
              "3                None                    None                            None   \n",
              "4                None                    None                            None   \n",
              "...               ...                     ...                             ...   \n",
              "1947412          Male                     Yes  POINT(-122.4117382 37.7810737)   \n",
              "1947413          Male                     Yes  POINT(-122.4117382 37.7810737)   \n",
              "1947414          Male                    None  POINT(-122.4117382 37.7810737)   \n",
              "1947415          Male                     Yes  POINT(-122.4117382 37.7810737)   \n",
              "1947416          Male                     Yes  POINT(-122.4117382 37.7810737)   \n",
              "\n",
              "                       end_station_geom  \n",
              "0                                  None  \n",
              "1                                  None  \n",
              "2                                  None  \n",
              "3                                  None  \n",
              "4                                  None  \n",
              "...                                 ...  \n",
              "1947412  POINT(-122.4117382 37.7810737)  \n",
              "1947413  POINT(-122.4117382 37.7810737)  \n",
              "1947414  POINT(-122.4117382 37.7810737)  \n",
              "1947415  POINT(-122.4117382 37.7810737)  \n",
              "1947416  POINT(-122.4117382 37.7810737)  \n",
              "\n",
              "[1947417 rows x 21 columns]"
            ],
            "text/html": [
              "\n",
              "  <div id=\"df-cf3ede20-053a-4e29-bcce-53ad97d2327f\">\n",
              "    <div class=\"colab-df-container\">\n",
              "      <div>\n",
              "<style scoped>\n",
              "    .dataframe tbody tr th:only-of-type {\n",
              "        vertical-align: middle;\n",
              "    }\n",
              "\n",
              "    .dataframe tbody tr th {\n",
              "        vertical-align: top;\n",
              "    }\n",
              "\n",
              "    .dataframe thead th {\n",
              "        text-align: right;\n",
              "    }\n",
              "</style>\n",
              "<table border=\"1\" class=\"dataframe\">\n",
              "  <thead>\n",
              "    <tr style=\"text-align: right;\">\n",
              "      <th></th>\n",
              "      <th>Trip_ID</th>\n",
              "      <th>Duration</th>\n",
              "      <th>Starting_Date</th>\n",
              "      <th>Starting_Station</th>\n",
              "      <th>Starting_Station_ID</th>\n",
              "      <th>Ending_Date</th>\n",
              "      <th>Ending_Station</th>\n",
              "      <th>Ending_Station_ID</th>\n",
              "      <th>bike_number</th>\n",
              "      <th>zip_code</th>\n",
              "      <th>subscriber_type</th>\n",
              "      <th>Subscription_Type</th>\n",
              "      <th>start_station_latitude</th>\n",
              "      <th>start_station_longitude</th>\n",
              "      <th>end_station_latitude</th>\n",
              "      <th>end_station_longitude</th>\n",
              "      <th>member_birth_year</th>\n",
              "      <th>member_gender</th>\n",
              "      <th>bike_share_for_all_trip</th>\n",
              "      <th>start_station_geom</th>\n",
              "      <th>end_station_geom</th>\n",
              "    </tr>\n",
              "  </thead>\n",
              "  <tbody>\n",
              "    <tr>\n",
              "      <th>0</th>\n",
              "      <td>962137</td>\n",
              "      <td>316</td>\n",
              "      <td>2015-10-08 08:17:00+00:00</td>\n",
              "      <td>Mezes</td>\n",
              "      <td>83</td>\n",
              "      <td>2015-10-08 08:22:00+00:00</td>\n",
              "      <td>Redwood City Caltrain Station</td>\n",
              "      <td>22</td>\n",
              "      <td>102</td>\n",
              "      <td>94063</td>\n",
              "      <td>nan</td>\n",
              "      <td>Subscriber</td>\n",
              "      <td>NaN</td>\n",
              "      <td>NaN</td>\n",
              "      <td>NaN</td>\n",
              "      <td>NaN</td>\n",
              "      <td>&lt;NA&gt;</td>\n",
              "      <td>None</td>\n",
              "      <td>None</td>\n",
              "      <td>None</td>\n",
              "      <td>None</td>\n",
              "    </tr>\n",
              "    <tr>\n",
              "      <th>1</th>\n",
              "      <td>982499</td>\n",
              "      <td>327</td>\n",
              "      <td>2015-10-23 08:12:00+00:00</td>\n",
              "      <td>Mezes</td>\n",
              "      <td>83</td>\n",
              "      <td>2015-10-23 08:17:00+00:00</td>\n",
              "      <td>Redwood City Caltrain Station</td>\n",
              "      <td>22</td>\n",
              "      <td>155</td>\n",
              "      <td>94063</td>\n",
              "      <td>nan</td>\n",
              "      <td>Subscriber</td>\n",
              "      <td>NaN</td>\n",
              "      <td>NaN</td>\n",
              "      <td>NaN</td>\n",
              "      <td>NaN</td>\n",
              "      <td>&lt;NA&gt;</td>\n",
              "      <td>None</td>\n",
              "      <td>None</td>\n",
              "      <td>None</td>\n",
              "      <td>None</td>\n",
              "    </tr>\n",
              "    <tr>\n",
              "      <th>2</th>\n",
              "      <td>975535</td>\n",
              "      <td>279</td>\n",
              "      <td>2015-10-19 08:15:00+00:00</td>\n",
              "      <td>Mezes</td>\n",
              "      <td>83</td>\n",
              "      <td>2015-10-19 08:20:00+00:00</td>\n",
              "      <td>Redwood City Caltrain Station</td>\n",
              "      <td>22</td>\n",
              "      <td>650</td>\n",
              "      <td>94063</td>\n",
              "      <td>nan</td>\n",
              "      <td>Subscriber</td>\n",
              "      <td>NaN</td>\n",
              "      <td>NaN</td>\n",
              "      <td>NaN</td>\n",
              "      <td>NaN</td>\n",
              "      <td>&lt;NA&gt;</td>\n",
              "      <td>None</td>\n",
              "      <td>None</td>\n",
              "      <td>None</td>\n",
              "      <td>None</td>\n",
              "    </tr>\n",
              "    <tr>\n",
              "      <th>3</th>\n",
              "      <td>740713</td>\n",
              "      <td>46072</td>\n",
              "      <td>2015-04-25 11:15:00+00:00</td>\n",
              "      <td>Japantown</td>\n",
              "      <td>9</td>\n",
              "      <td>2015-04-26 00:03:00+00:00</td>\n",
              "      <td>Japantown</td>\n",
              "      <td>9</td>\n",
              "      <td>256</td>\n",
              "      <td>95112</td>\n",
              "      <td>nan</td>\n",
              "      <td>Customer</td>\n",
              "      <td>NaN</td>\n",
              "      <td>NaN</td>\n",
              "      <td>NaN</td>\n",
              "      <td>NaN</td>\n",
              "      <td>&lt;NA&gt;</td>\n",
              "      <td>None</td>\n",
              "      <td>None</td>\n",
              "      <td>None</td>\n",
              "      <td>None</td>\n",
              "    </tr>\n",
              "    <tr>\n",
              "      <th>4</th>\n",
              "      <td>10885</td>\n",
              "      <td>5503</td>\n",
              "      <td>2013-09-04 16:07:00+00:00</td>\n",
              "      <td>Japantown</td>\n",
              "      <td>9</td>\n",
              "      <td>2013-09-04 17:38:00+00:00</td>\n",
              "      <td>Japantown</td>\n",
              "      <td>9</td>\n",
              "      <td>44</td>\n",
              "      <td>95112</td>\n",
              "      <td>nan</td>\n",
              "      <td>Customer</td>\n",
              "      <td>NaN</td>\n",
              "      <td>NaN</td>\n",
              "      <td>NaN</td>\n",
              "      <td>NaN</td>\n",
              "      <td>&lt;NA&gt;</td>\n",
              "      <td>None</td>\n",
              "      <td>None</td>\n",
              "      <td>None</td>\n",
              "      <td>None</td>\n",
              "    </tr>\n",
              "    <tr>\n",
              "      <th>...</th>\n",
              "      <td>...</td>\n",
              "      <td>...</td>\n",
              "      <td>...</td>\n",
              "      <td>...</td>\n",
              "      <td>...</td>\n",
              "      <td>...</td>\n",
              "      <td>...</td>\n",
              "      <td>...</td>\n",
              "      <td>...</td>\n",
              "      <td>...</td>\n",
              "      <td>...</td>\n",
              "      <td>...</td>\n",
              "      <td>...</td>\n",
              "      <td>...</td>\n",
              "      <td>...</td>\n",
              "      <td>...</td>\n",
              "      <td>...</td>\n",
              "      <td>...</td>\n",
              "      <td>...</td>\n",
              "      <td>...</td>\n",
              "      <td>...</td>\n",
              "    </tr>\n",
              "    <tr>\n",
              "      <th>1947412</th>\n",
              "      <td>20180326172100.602000671</td>\n",
              "      <td>3021</td>\n",
              "      <td>2018-03-26 17:21:00.602000+00:00</td>\n",
              "      <td>Civic Center/UN Plaza BART Station (Market St ...</td>\n",
              "      <td>44</td>\n",
              "      <td>2018-03-26 18:11:21.775000+00:00</td>\n",
              "      <td>Civic Center/UN Plaza BART Station (Market St ...</td>\n",
              "      <td>44</td>\n",
              "      <td>671</td>\n",
              "      <td>None</td>\n",
              "      <td>Subscriber</td>\n",
              "      <td>None</td>\n",
              "      <td>37.78</td>\n",
              "      <td>-122.41</td>\n",
              "      <td>37.78</td>\n",
              "      <td>-122.41</td>\n",
              "      <td>1959</td>\n",
              "      <td>Male</td>\n",
              "      <td>Yes</td>\n",
              "      <td>POINT(-122.4117382 37.7810737)</td>\n",
              "      <td>POINT(-122.4117382 37.7810737)</td>\n",
              "    </tr>\n",
              "    <tr>\n",
              "      <th>1947413</th>\n",
              "      <td>20180221171009.0030003619</td>\n",
              "      <td>2988</td>\n",
              "      <td>2018-02-21 17:10:09.003000+00:00</td>\n",
              "      <td>Civic Center/UN Plaza BART Station (Market St ...</td>\n",
              "      <td>44</td>\n",
              "      <td>2018-02-21 17:59:57.795000+00:00</td>\n",
              "      <td>Civic Center/UN Plaza BART Station (Market St ...</td>\n",
              "      <td>44</td>\n",
              "      <td>3619</td>\n",
              "      <td>None</td>\n",
              "      <td>Subscriber</td>\n",
              "      <td>None</td>\n",
              "      <td>37.78</td>\n",
              "      <td>-122.41</td>\n",
              "      <td>37.78</td>\n",
              "      <td>-122.41</td>\n",
              "      <td>1959</td>\n",
              "      <td>Male</td>\n",
              "      <td>Yes</td>\n",
              "      <td>POINT(-122.4117382 37.7810737)</td>\n",
              "      <td>POINT(-122.4117382 37.7810737)</td>\n",
              "    </tr>\n",
              "    <tr>\n",
              "      <th>1947414</th>\n",
              "      <td>20171209001043.1720002652</td>\n",
              "      <td>1995</td>\n",
              "      <td>2017-12-09 00:10:43.172000+00:00</td>\n",
              "      <td>Civic Center/UN Plaza BART Station (Market St ...</td>\n",
              "      <td>44</td>\n",
              "      <td>2017-12-09 00:43:58.593000+00:00</td>\n",
              "      <td>Civic Center/UN Plaza BART Station (Market St ...</td>\n",
              "      <td>44</td>\n",
              "      <td>2652</td>\n",
              "      <td>None</td>\n",
              "      <td>Subscriber</td>\n",
              "      <td>None</td>\n",
              "      <td>37.78</td>\n",
              "      <td>-122.41</td>\n",
              "      <td>37.78</td>\n",
              "      <td>-122.41</td>\n",
              "      <td>1960</td>\n",
              "      <td>Male</td>\n",
              "      <td>None</td>\n",
              "      <td>POINT(-122.4117382 37.7810737)</td>\n",
              "      <td>POINT(-122.4117382 37.7810737)</td>\n",
              "    </tr>\n",
              "    <tr>\n",
              "      <th>1947415</th>\n",
              "      <td>20180214134114.6830003624</td>\n",
              "      <td>2645</td>\n",
              "      <td>2018-02-14 13:41:14.683000+00:00</td>\n",
              "      <td>Civic Center/UN Plaza BART Station (Market St ...</td>\n",
              "      <td>44</td>\n",
              "      <td>2018-02-14 14:25:20.212000+00:00</td>\n",
              "      <td>Civic Center/UN Plaza BART Station (Market St ...</td>\n",
              "      <td>44</td>\n",
              "      <td>3624</td>\n",
              "      <td>None</td>\n",
              "      <td>Subscriber</td>\n",
              "      <td>None</td>\n",
              "      <td>37.78</td>\n",
              "      <td>-122.41</td>\n",
              "      <td>37.78</td>\n",
              "      <td>-122.41</td>\n",
              "      <td>1959</td>\n",
              "      <td>Male</td>\n",
              "      <td>Yes</td>\n",
              "      <td>POINT(-122.4117382 37.7810737)</td>\n",
              "      <td>POINT(-122.4117382 37.7810737)</td>\n",
              "    </tr>\n",
              "    <tr>\n",
              "      <th>1947416</th>\n",
              "      <td>20180411001920.8510001930</td>\n",
              "      <td>1103</td>\n",
              "      <td>2018-04-11 00:19:20.851000+00:00</td>\n",
              "      <td>Civic Center/UN Plaza BART Station (Market St ...</td>\n",
              "      <td>44</td>\n",
              "      <td>2018-04-11 00:37:44.234000+00:00</td>\n",
              "      <td>Civic Center/UN Plaza BART Station (Market St ...</td>\n",
              "      <td>44</td>\n",
              "      <td>1930</td>\n",
              "      <td>None</td>\n",
              "      <td>Subscriber</td>\n",
              "      <td>None</td>\n",
              "      <td>37.78</td>\n",
              "      <td>-122.41</td>\n",
              "      <td>37.78</td>\n",
              "      <td>-122.41</td>\n",
              "      <td>1959</td>\n",
              "      <td>Male</td>\n",
              "      <td>Yes</td>\n",
              "      <td>POINT(-122.4117382 37.7810737)</td>\n",
              "      <td>POINT(-122.4117382 37.7810737)</td>\n",
              "    </tr>\n",
              "  </tbody>\n",
              "</table>\n",
              "<p>1947417 rows × 21 columns</p>\n",
              "</div>\n",
              "      <button class=\"colab-df-convert\" onclick=\"convertToInteractive('df-cf3ede20-053a-4e29-bcce-53ad97d2327f')\"\n",
              "              title=\"Convert this dataframe to an interactive table.\"\n",
              "              style=\"display:none;\">\n",
              "        \n",
              "  <svg xmlns=\"http://www.w3.org/2000/svg\" height=\"24px\"viewBox=\"0 0 24 24\"\n",
              "       width=\"24px\">\n",
              "    <path d=\"M0 0h24v24H0V0z\" fill=\"none\"/>\n",
              "    <path d=\"M18.56 5.44l.94 2.06.94-2.06 2.06-.94-2.06-.94-.94-2.06-.94 2.06-2.06.94zm-11 1L8.5 8.5l.94-2.06 2.06-.94-2.06-.94L8.5 2.5l-.94 2.06-2.06.94zm10 10l.94 2.06.94-2.06 2.06-.94-2.06-.94-.94-2.06-.94 2.06-2.06.94z\"/><path d=\"M17.41 7.96l-1.37-1.37c-.4-.4-.92-.59-1.43-.59-.52 0-1.04.2-1.43.59L10.3 9.45l-7.72 7.72c-.78.78-.78 2.05 0 2.83L4 21.41c.39.39.9.59 1.41.59.51 0 1.02-.2 1.41-.59l7.78-7.78 2.81-2.81c.8-.78.8-2.07 0-2.86zM5.41 20L4 18.59l7.72-7.72 1.47 1.35L5.41 20z\"/>\n",
              "  </svg>\n",
              "      </button>\n",
              "      \n",
              "  <style>\n",
              "    .colab-df-container {\n",
              "      display:flex;\n",
              "      flex-wrap:wrap;\n",
              "      gap: 12px;\n",
              "    }\n",
              "\n",
              "    .colab-df-convert {\n",
              "      background-color: #E8F0FE;\n",
              "      border: none;\n",
              "      border-radius: 50%;\n",
              "      cursor: pointer;\n",
              "      display: none;\n",
              "      fill: #1967D2;\n",
              "      height: 32px;\n",
              "      padding: 0 0 0 0;\n",
              "      width: 32px;\n",
              "    }\n",
              "\n",
              "    .colab-df-convert:hover {\n",
              "      background-color: #E2EBFA;\n",
              "      box-shadow: 0px 1px 2px rgba(60, 64, 67, 0.3), 0px 1px 3px 1px rgba(60, 64, 67, 0.15);\n",
              "      fill: #174EA6;\n",
              "    }\n",
              "\n",
              "    [theme=dark] .colab-df-convert {\n",
              "      background-color: #3B4455;\n",
              "      fill: #D2E3FC;\n",
              "    }\n",
              "\n",
              "    [theme=dark] .colab-df-convert:hover {\n",
              "      background-color: #434B5C;\n",
              "      box-shadow: 0px 1px 3px 1px rgba(0, 0, 0, 0.15);\n",
              "      filter: drop-shadow(0px 1px 2px rgba(0, 0, 0, 0.3));\n",
              "      fill: #FFFFFF;\n",
              "    }\n",
              "  </style>\n",
              "\n",
              "      <script>\n",
              "        const buttonEl =\n",
              "          document.querySelector('#df-cf3ede20-053a-4e29-bcce-53ad97d2327f button.colab-df-convert');\n",
              "        buttonEl.style.display =\n",
              "          google.colab.kernel.accessAllowed ? 'block' : 'none';\n",
              "\n",
              "        async function convertToInteractive(key) {\n",
              "          const element = document.querySelector('#df-cf3ede20-053a-4e29-bcce-53ad97d2327f');\n",
              "          const dataTable =\n",
              "            await google.colab.kernel.invokeFunction('convertToInteractive',\n",
              "                                                     [key], {});\n",
              "          if (!dataTable) return;\n",
              "\n",
              "          const docLinkHtml = 'Like what you see? Visit the ' +\n",
              "            '<a target=\"_blank\" href=https://colab.research.google.com/notebooks/data_table.ipynb>data table notebook</a>'\n",
              "            + ' to learn more about interactive tables.';\n",
              "          element.innerHTML = '';\n",
              "          dataTable['output_type'] = 'display_data';\n",
              "          await google.colab.output.renderOutput(dataTable, element);\n",
              "          const docLink = document.createElement('div');\n",
              "          docLink.innerHTML = docLinkHtml;\n",
              "          element.appendChild(docLink);\n",
              "        }\n",
              "      </script>\n",
              "    </div>\n",
              "  </div>\n",
              "  "
            ]
          },
          "metadata": {},
          "execution_count": 11
        }
      ]
    },
    {
      "cell_type": "code",
      "source": [
        "#Menghapus kolom yang tidak diperlukan\n",
        "unused_columns = [\"bike_number\",\"zip_code\", \"subscriber_type\", \"start_station_latitude\", \"start_station_longitude\",\"end_station_latitude\",\"end_station_longitude\",\"member_birth_year\",\"member_gender\",\n",
        "                  \"bike_share_for_all_trip\",\"start_station_geom\",\"end_station_geom\"]\n",
        "df.drop(unused_columns, inplace=True, axis=1)\n",
        "df"
      ],
      "metadata": {
        "id": "j1Dzc3KQa4i-",
        "colab": {
          "base_uri": "https://localhost:8080/",
          "height": 814
        },
        "outputId": "8bd9f7c2-b487-4b10-beac-e78104928a3d"
      },
      "execution_count": 12,
      "outputs": [
        {
          "output_type": "execute_result",
          "data": {
            "text/plain": [
              "                           Trip_ID  Duration                    Starting_Date  \\\n",
              "0                           962137       316        2015-10-08 08:17:00+00:00   \n",
              "1                           982499       327        2015-10-23 08:12:00+00:00   \n",
              "2                           975535       279        2015-10-19 08:15:00+00:00   \n",
              "3                           740713     46072        2015-04-25 11:15:00+00:00   \n",
              "4                            10885      5503        2013-09-04 16:07:00+00:00   \n",
              "...                            ...       ...                              ...   \n",
              "1947412   20180326172100.602000671      3021 2018-03-26 17:21:00.602000+00:00   \n",
              "1947413  20180221171009.0030003619      2988 2018-02-21 17:10:09.003000+00:00   \n",
              "1947414  20171209001043.1720002652      1995 2017-12-09 00:10:43.172000+00:00   \n",
              "1947415  20180214134114.6830003624      2645 2018-02-14 13:41:14.683000+00:00   \n",
              "1947416  20180411001920.8510001930      1103 2018-04-11 00:19:20.851000+00:00   \n",
              "\n",
              "                                          Starting_Station  \\\n",
              "0                                                    Mezes   \n",
              "1                                                    Mezes   \n",
              "2                                                    Mezes   \n",
              "3                                                Japantown   \n",
              "4                                                Japantown   \n",
              "...                                                    ...   \n",
              "1947412  Civic Center/UN Plaza BART Station (Market St ...   \n",
              "1947413  Civic Center/UN Plaza BART Station (Market St ...   \n",
              "1947414  Civic Center/UN Plaza BART Station (Market St ...   \n",
              "1947415  Civic Center/UN Plaza BART Station (Market St ...   \n",
              "1947416  Civic Center/UN Plaza BART Station (Market St ...   \n",
              "\n",
              "         Starting_Station_ID                      Ending_Date  \\\n",
              "0                         83        2015-10-08 08:22:00+00:00   \n",
              "1                         83        2015-10-23 08:17:00+00:00   \n",
              "2                         83        2015-10-19 08:20:00+00:00   \n",
              "3                          9        2015-04-26 00:03:00+00:00   \n",
              "4                          9        2013-09-04 17:38:00+00:00   \n",
              "...                      ...                              ...   \n",
              "1947412                   44 2018-03-26 18:11:21.775000+00:00   \n",
              "1947413                   44 2018-02-21 17:59:57.795000+00:00   \n",
              "1947414                   44 2017-12-09 00:43:58.593000+00:00   \n",
              "1947415                   44 2018-02-14 14:25:20.212000+00:00   \n",
              "1947416                   44 2018-04-11 00:37:44.234000+00:00   \n",
              "\n",
              "                                            Ending_Station  Ending_Station_ID  \\\n",
              "0                            Redwood City Caltrain Station                 22   \n",
              "1                            Redwood City Caltrain Station                 22   \n",
              "2                            Redwood City Caltrain Station                 22   \n",
              "3                                                Japantown                  9   \n",
              "4                                                Japantown                  9   \n",
              "...                                                    ...                ...   \n",
              "1947412  Civic Center/UN Plaza BART Station (Market St ...                 44   \n",
              "1947413  Civic Center/UN Plaza BART Station (Market St ...                 44   \n",
              "1947414  Civic Center/UN Plaza BART Station (Market St ...                 44   \n",
              "1947415  Civic Center/UN Plaza BART Station (Market St ...                 44   \n",
              "1947416  Civic Center/UN Plaza BART Station (Market St ...                 44   \n",
              "\n",
              "        Subscription_Type  \n",
              "0              Subscriber  \n",
              "1              Subscriber  \n",
              "2              Subscriber  \n",
              "3                Customer  \n",
              "4                Customer  \n",
              "...                   ...  \n",
              "1947412              None  \n",
              "1947413              None  \n",
              "1947414              None  \n",
              "1947415              None  \n",
              "1947416              None  \n",
              "\n",
              "[1947417 rows x 9 columns]"
            ],
            "text/html": [
              "\n",
              "  <div id=\"df-9f9d4652-4f6a-4729-abd3-b8b28e7cab68\">\n",
              "    <div class=\"colab-df-container\">\n",
              "      <div>\n",
              "<style scoped>\n",
              "    .dataframe tbody tr th:only-of-type {\n",
              "        vertical-align: middle;\n",
              "    }\n",
              "\n",
              "    .dataframe tbody tr th {\n",
              "        vertical-align: top;\n",
              "    }\n",
              "\n",
              "    .dataframe thead th {\n",
              "        text-align: right;\n",
              "    }\n",
              "</style>\n",
              "<table border=\"1\" class=\"dataframe\">\n",
              "  <thead>\n",
              "    <tr style=\"text-align: right;\">\n",
              "      <th></th>\n",
              "      <th>Trip_ID</th>\n",
              "      <th>Duration</th>\n",
              "      <th>Starting_Date</th>\n",
              "      <th>Starting_Station</th>\n",
              "      <th>Starting_Station_ID</th>\n",
              "      <th>Ending_Date</th>\n",
              "      <th>Ending_Station</th>\n",
              "      <th>Ending_Station_ID</th>\n",
              "      <th>Subscription_Type</th>\n",
              "    </tr>\n",
              "  </thead>\n",
              "  <tbody>\n",
              "    <tr>\n",
              "      <th>0</th>\n",
              "      <td>962137</td>\n",
              "      <td>316</td>\n",
              "      <td>2015-10-08 08:17:00+00:00</td>\n",
              "      <td>Mezes</td>\n",
              "      <td>83</td>\n",
              "      <td>2015-10-08 08:22:00+00:00</td>\n",
              "      <td>Redwood City Caltrain Station</td>\n",
              "      <td>22</td>\n",
              "      <td>Subscriber</td>\n",
              "    </tr>\n",
              "    <tr>\n",
              "      <th>1</th>\n",
              "      <td>982499</td>\n",
              "      <td>327</td>\n",
              "      <td>2015-10-23 08:12:00+00:00</td>\n",
              "      <td>Mezes</td>\n",
              "      <td>83</td>\n",
              "      <td>2015-10-23 08:17:00+00:00</td>\n",
              "      <td>Redwood City Caltrain Station</td>\n",
              "      <td>22</td>\n",
              "      <td>Subscriber</td>\n",
              "    </tr>\n",
              "    <tr>\n",
              "      <th>2</th>\n",
              "      <td>975535</td>\n",
              "      <td>279</td>\n",
              "      <td>2015-10-19 08:15:00+00:00</td>\n",
              "      <td>Mezes</td>\n",
              "      <td>83</td>\n",
              "      <td>2015-10-19 08:20:00+00:00</td>\n",
              "      <td>Redwood City Caltrain Station</td>\n",
              "      <td>22</td>\n",
              "      <td>Subscriber</td>\n",
              "    </tr>\n",
              "    <tr>\n",
              "      <th>3</th>\n",
              "      <td>740713</td>\n",
              "      <td>46072</td>\n",
              "      <td>2015-04-25 11:15:00+00:00</td>\n",
              "      <td>Japantown</td>\n",
              "      <td>9</td>\n",
              "      <td>2015-04-26 00:03:00+00:00</td>\n",
              "      <td>Japantown</td>\n",
              "      <td>9</td>\n",
              "      <td>Customer</td>\n",
              "    </tr>\n",
              "    <tr>\n",
              "      <th>4</th>\n",
              "      <td>10885</td>\n",
              "      <td>5503</td>\n",
              "      <td>2013-09-04 16:07:00+00:00</td>\n",
              "      <td>Japantown</td>\n",
              "      <td>9</td>\n",
              "      <td>2013-09-04 17:38:00+00:00</td>\n",
              "      <td>Japantown</td>\n",
              "      <td>9</td>\n",
              "      <td>Customer</td>\n",
              "    </tr>\n",
              "    <tr>\n",
              "      <th>...</th>\n",
              "      <td>...</td>\n",
              "      <td>...</td>\n",
              "      <td>...</td>\n",
              "      <td>...</td>\n",
              "      <td>...</td>\n",
              "      <td>...</td>\n",
              "      <td>...</td>\n",
              "      <td>...</td>\n",
              "      <td>...</td>\n",
              "    </tr>\n",
              "    <tr>\n",
              "      <th>1947412</th>\n",
              "      <td>20180326172100.602000671</td>\n",
              "      <td>3021</td>\n",
              "      <td>2018-03-26 17:21:00.602000+00:00</td>\n",
              "      <td>Civic Center/UN Plaza BART Station (Market St ...</td>\n",
              "      <td>44</td>\n",
              "      <td>2018-03-26 18:11:21.775000+00:00</td>\n",
              "      <td>Civic Center/UN Plaza BART Station (Market St ...</td>\n",
              "      <td>44</td>\n",
              "      <td>None</td>\n",
              "    </tr>\n",
              "    <tr>\n",
              "      <th>1947413</th>\n",
              "      <td>20180221171009.0030003619</td>\n",
              "      <td>2988</td>\n",
              "      <td>2018-02-21 17:10:09.003000+00:00</td>\n",
              "      <td>Civic Center/UN Plaza BART Station (Market St ...</td>\n",
              "      <td>44</td>\n",
              "      <td>2018-02-21 17:59:57.795000+00:00</td>\n",
              "      <td>Civic Center/UN Plaza BART Station (Market St ...</td>\n",
              "      <td>44</td>\n",
              "      <td>None</td>\n",
              "    </tr>\n",
              "    <tr>\n",
              "      <th>1947414</th>\n",
              "      <td>20171209001043.1720002652</td>\n",
              "      <td>1995</td>\n",
              "      <td>2017-12-09 00:10:43.172000+00:00</td>\n",
              "      <td>Civic Center/UN Plaza BART Station (Market St ...</td>\n",
              "      <td>44</td>\n",
              "      <td>2017-12-09 00:43:58.593000+00:00</td>\n",
              "      <td>Civic Center/UN Plaza BART Station (Market St ...</td>\n",
              "      <td>44</td>\n",
              "      <td>None</td>\n",
              "    </tr>\n",
              "    <tr>\n",
              "      <th>1947415</th>\n",
              "      <td>20180214134114.6830003624</td>\n",
              "      <td>2645</td>\n",
              "      <td>2018-02-14 13:41:14.683000+00:00</td>\n",
              "      <td>Civic Center/UN Plaza BART Station (Market St ...</td>\n",
              "      <td>44</td>\n",
              "      <td>2018-02-14 14:25:20.212000+00:00</td>\n",
              "      <td>Civic Center/UN Plaza BART Station (Market St ...</td>\n",
              "      <td>44</td>\n",
              "      <td>None</td>\n",
              "    </tr>\n",
              "    <tr>\n",
              "      <th>1947416</th>\n",
              "      <td>20180411001920.8510001930</td>\n",
              "      <td>1103</td>\n",
              "      <td>2018-04-11 00:19:20.851000+00:00</td>\n",
              "      <td>Civic Center/UN Plaza BART Station (Market St ...</td>\n",
              "      <td>44</td>\n",
              "      <td>2018-04-11 00:37:44.234000+00:00</td>\n",
              "      <td>Civic Center/UN Plaza BART Station (Market St ...</td>\n",
              "      <td>44</td>\n",
              "      <td>None</td>\n",
              "    </tr>\n",
              "  </tbody>\n",
              "</table>\n",
              "<p>1947417 rows × 9 columns</p>\n",
              "</div>\n",
              "      <button class=\"colab-df-convert\" onclick=\"convertToInteractive('df-9f9d4652-4f6a-4729-abd3-b8b28e7cab68')\"\n",
              "              title=\"Convert this dataframe to an interactive table.\"\n",
              "              style=\"display:none;\">\n",
              "        \n",
              "  <svg xmlns=\"http://www.w3.org/2000/svg\" height=\"24px\"viewBox=\"0 0 24 24\"\n",
              "       width=\"24px\">\n",
              "    <path d=\"M0 0h24v24H0V0z\" fill=\"none\"/>\n",
              "    <path d=\"M18.56 5.44l.94 2.06.94-2.06 2.06-.94-2.06-.94-.94-2.06-.94 2.06-2.06.94zm-11 1L8.5 8.5l.94-2.06 2.06-.94-2.06-.94L8.5 2.5l-.94 2.06-2.06.94zm10 10l.94 2.06.94-2.06 2.06-.94-2.06-.94-.94-2.06-.94 2.06-2.06.94z\"/><path d=\"M17.41 7.96l-1.37-1.37c-.4-.4-.92-.59-1.43-.59-.52 0-1.04.2-1.43.59L10.3 9.45l-7.72 7.72c-.78.78-.78 2.05 0 2.83L4 21.41c.39.39.9.59 1.41.59.51 0 1.02-.2 1.41-.59l7.78-7.78 2.81-2.81c.8-.78.8-2.07 0-2.86zM5.41 20L4 18.59l7.72-7.72 1.47 1.35L5.41 20z\"/>\n",
              "  </svg>\n",
              "      </button>\n",
              "      \n",
              "  <style>\n",
              "    .colab-df-container {\n",
              "      display:flex;\n",
              "      flex-wrap:wrap;\n",
              "      gap: 12px;\n",
              "    }\n",
              "\n",
              "    .colab-df-convert {\n",
              "      background-color: #E8F0FE;\n",
              "      border: none;\n",
              "      border-radius: 50%;\n",
              "      cursor: pointer;\n",
              "      display: none;\n",
              "      fill: #1967D2;\n",
              "      height: 32px;\n",
              "      padding: 0 0 0 0;\n",
              "      width: 32px;\n",
              "    }\n",
              "\n",
              "    .colab-df-convert:hover {\n",
              "      background-color: #E2EBFA;\n",
              "      box-shadow: 0px 1px 2px rgba(60, 64, 67, 0.3), 0px 1px 3px 1px rgba(60, 64, 67, 0.15);\n",
              "      fill: #174EA6;\n",
              "    }\n",
              "\n",
              "    [theme=dark] .colab-df-convert {\n",
              "      background-color: #3B4455;\n",
              "      fill: #D2E3FC;\n",
              "    }\n",
              "\n",
              "    [theme=dark] .colab-df-convert:hover {\n",
              "      background-color: #434B5C;\n",
              "      box-shadow: 0px 1px 3px 1px rgba(0, 0, 0, 0.15);\n",
              "      filter: drop-shadow(0px 1px 2px rgba(0, 0, 0, 0.3));\n",
              "      fill: #FFFFFF;\n",
              "    }\n",
              "  </style>\n",
              "\n",
              "      <script>\n",
              "        const buttonEl =\n",
              "          document.querySelector('#df-9f9d4652-4f6a-4729-abd3-b8b28e7cab68 button.colab-df-convert');\n",
              "        buttonEl.style.display =\n",
              "          google.colab.kernel.accessAllowed ? 'block' : 'none';\n",
              "\n",
              "        async function convertToInteractive(key) {\n",
              "          const element = document.querySelector('#df-9f9d4652-4f6a-4729-abd3-b8b28e7cab68');\n",
              "          const dataTable =\n",
              "            await google.colab.kernel.invokeFunction('convertToInteractive',\n",
              "                                                     [key], {});\n",
              "          if (!dataTable) return;\n",
              "\n",
              "          const docLinkHtml = 'Like what you see? Visit the ' +\n",
              "            '<a target=\"_blank\" href=https://colab.research.google.com/notebooks/data_table.ipynb>data table notebook</a>'\n",
              "            + ' to learn more about interactive tables.';\n",
              "          element.innerHTML = '';\n",
              "          dataTable['output_type'] = 'display_data';\n",
              "          await google.colab.output.renderOutput(dataTable, element);\n",
              "          const docLink = document.createElement('div');\n",
              "          docLink.innerHTML = docLinkHtml;\n",
              "          element.appendChild(docLink);\n",
              "        }\n",
              "      </script>\n",
              "    </div>\n",
              "  </div>\n",
              "  "
            ]
          },
          "metadata": {},
          "execution_count": 12
        }
      ]
    },
    {
      "cell_type": "code",
      "source": [
        "#Mencari missing value pada data\n",
        "df.info()"
      ],
      "metadata": {
        "id": "KBleyqOPdHsu",
        "colab": {
          "base_uri": "https://localhost:8080/"
        },
        "outputId": "364322b8-7a96-4aaf-a267-25d4de0fe5d6"
      },
      "execution_count": 13,
      "outputs": [
        {
          "output_type": "stream",
          "name": "stdout",
          "text": [
            "<class 'pandas.core.frame.DataFrame'>\n",
            "RangeIndex: 1947417 entries, 0 to 1947416\n",
            "Data columns (total 9 columns):\n",
            " #   Column               Dtype              \n",
            "---  ------               -----              \n",
            " 0   Trip_ID              object             \n",
            " 1   Duration             Int64              \n",
            " 2   Starting_Date        datetime64[ns, UTC]\n",
            " 3   Starting_Station     object             \n",
            " 4   Starting_Station_ID  Int64              \n",
            " 5   Ending_Date          datetime64[ns, UTC]\n",
            " 6   Ending_Station       object             \n",
            " 7   Ending_Station_ID    Int64              \n",
            " 8   Subscription_Type    object             \n",
            "dtypes: Int64(3), datetime64[ns, UTC](2), object(4)\n",
            "memory usage: 139.3+ MB\n"
          ]
        }
      ]
    },
    {
      "cell_type": "code",
      "source": [
        "df.isnull().sum()"
      ],
      "metadata": {
        "id": "H8j1DHzp6wu2",
        "colab": {
          "base_uri": "https://localhost:8080/"
        },
        "outputId": "85b4fcfc-4cb8-4e40-9e7d-a34d8c90afa0"
      },
      "execution_count": 14,
      "outputs": [
        {
          "output_type": "execute_result",
          "data": {
            "text/plain": [
              "Trip_ID                     0\n",
              "Duration                    0\n",
              "Starting_Date               0\n",
              "Starting_Station            0\n",
              "Starting_Station_ID         0\n",
              "Ending_Date                 0\n",
              "Ending_Station              0\n",
              "Ending_Station_ID           0\n",
              "Subscription_Type      963771\n",
              "dtype: int64"
            ]
          },
          "metadata": {},
          "execution_count": 14
        }
      ]
    },
    {
      "cell_type": "code",
      "source": [
        "#Mengatasi missing value\n",
        "rows_without_missing_data = df.dropna()"
      ],
      "metadata": {
        "id": "SJDmOsgK7Kp0"
      },
      "execution_count": 15,
      "outputs": []
    },
    {
      "cell_type": "code",
      "source": [
        "rows_without_missing_data.shape"
      ],
      "metadata": {
        "id": "GuTo4HWM7O8U",
        "colab": {
          "base_uri": "https://localhost:8080/"
        },
        "outputId": "5124930e-d478-4415-c334-435480ded6b1"
      },
      "execution_count": 16,
      "outputs": [
        {
          "output_type": "execute_result",
          "data": {
            "text/plain": [
              "(983646, 9)"
            ]
          },
          "metadata": {},
          "execution_count": 16
        }
      ]
    },
    {
      "cell_type": "markdown",
      "source": [
        "#Menjawab Poin Penjabaran"
      ],
      "metadata": {
        "id": "awzu2mTeOzv2"
      }
    },
    {
      "cell_type": "code",
      "source": [
        "#1. Melihat rentang waktu pengambilan data\n",
        "dftime = df.groupby(df[\"Starting_Date\"]).sum().sort_values('Starting_Date')\n",
        "dftime"
      ],
      "metadata": {
        "id": "xhCa6eGsDPgA",
        "colab": {
          "base_uri": "https://localhost:8080/",
          "height": 455
        },
        "outputId": "eba4d39d-e2ed-4cb7-c09e-bfefaf9f4185"
      },
      "execution_count": 17,
      "outputs": [
        {
          "output_type": "execute_result",
          "data": {
            "text/plain": [
              "                                  Duration  Starting_Station_ID  \\\n",
              "Starting_Date                                                     \n",
              "2013-08-29 09:08:00+00:00              174                   64   \n",
              "2013-08-29 09:24:00+00:00             3315                  198   \n",
              "2013-08-29 09:25:00+00:00             1118                   66   \n",
              "2013-08-29 09:31:00+00:00             3829                   22   \n",
              "2013-08-29 09:35:00+00:00              995                   66   \n",
              "...                                    ...                  ...   \n",
              "2018-04-30 23:51:07.929000+00:00       477                  240   \n",
              "2018-04-30 23:56:46.022000+00:00       275                  114   \n",
              "2018-04-30 23:56:57.045000+00:00       323                   36   \n",
              "2018-04-30 23:57:43.244000+00:00        95                  137   \n",
              "2018-04-30 23:58:45.181000+00:00       256                  183   \n",
              "\n",
              "                                  Ending_Station_ID  \n",
              "Starting_Date                                        \n",
              "2013-08-29 09:08:00+00:00                        64  \n",
              "2013-08-29 09:24:00+00:00                       207  \n",
              "2013-08-29 09:25:00+00:00                        69  \n",
              "2013-08-29 09:31:00+00:00                        22  \n",
              "2013-08-29 09:35:00+00:00                        66  \n",
              "...                                             ...  \n",
              "2018-04-30 23:51:07.929000+00:00                240  \n",
              "2018-04-30 23:56:46.022000+00:00                 64  \n",
              "2018-04-30 23:56:57.045000+00:00                 62  \n",
              "2018-04-30 23:57:43.244000+00:00                138  \n",
              "2018-04-30 23:58:45.181000+00:00                195  \n",
              "\n",
              "[1488658 rows x 3 columns]"
            ],
            "text/html": [
              "\n",
              "  <div id=\"df-e09c342a-f089-4745-a55c-1a50a616b4aa\">\n",
              "    <div class=\"colab-df-container\">\n",
              "      <div>\n",
              "<style scoped>\n",
              "    .dataframe tbody tr th:only-of-type {\n",
              "        vertical-align: middle;\n",
              "    }\n",
              "\n",
              "    .dataframe tbody tr th {\n",
              "        vertical-align: top;\n",
              "    }\n",
              "\n",
              "    .dataframe thead th {\n",
              "        text-align: right;\n",
              "    }\n",
              "</style>\n",
              "<table border=\"1\" class=\"dataframe\">\n",
              "  <thead>\n",
              "    <tr style=\"text-align: right;\">\n",
              "      <th></th>\n",
              "      <th>Duration</th>\n",
              "      <th>Starting_Station_ID</th>\n",
              "      <th>Ending_Station_ID</th>\n",
              "    </tr>\n",
              "    <tr>\n",
              "      <th>Starting_Date</th>\n",
              "      <th></th>\n",
              "      <th></th>\n",
              "      <th></th>\n",
              "    </tr>\n",
              "  </thead>\n",
              "  <tbody>\n",
              "    <tr>\n",
              "      <th>2013-08-29 09:08:00+00:00</th>\n",
              "      <td>174</td>\n",
              "      <td>64</td>\n",
              "      <td>64</td>\n",
              "    </tr>\n",
              "    <tr>\n",
              "      <th>2013-08-29 09:24:00+00:00</th>\n",
              "      <td>3315</td>\n",
              "      <td>198</td>\n",
              "      <td>207</td>\n",
              "    </tr>\n",
              "    <tr>\n",
              "      <th>2013-08-29 09:25:00+00:00</th>\n",
              "      <td>1118</td>\n",
              "      <td>66</td>\n",
              "      <td>69</td>\n",
              "    </tr>\n",
              "    <tr>\n",
              "      <th>2013-08-29 09:31:00+00:00</th>\n",
              "      <td>3829</td>\n",
              "      <td>22</td>\n",
              "      <td>22</td>\n",
              "    </tr>\n",
              "    <tr>\n",
              "      <th>2013-08-29 09:35:00+00:00</th>\n",
              "      <td>995</td>\n",
              "      <td>66</td>\n",
              "      <td>66</td>\n",
              "    </tr>\n",
              "    <tr>\n",
              "      <th>...</th>\n",
              "      <td>...</td>\n",
              "      <td>...</td>\n",
              "      <td>...</td>\n",
              "    </tr>\n",
              "    <tr>\n",
              "      <th>2018-04-30 23:51:07.929000+00:00</th>\n",
              "      <td>477</td>\n",
              "      <td>240</td>\n",
              "      <td>240</td>\n",
              "    </tr>\n",
              "    <tr>\n",
              "      <th>2018-04-30 23:56:46.022000+00:00</th>\n",
              "      <td>275</td>\n",
              "      <td>114</td>\n",
              "      <td>64</td>\n",
              "    </tr>\n",
              "    <tr>\n",
              "      <th>2018-04-30 23:56:57.045000+00:00</th>\n",
              "      <td>323</td>\n",
              "      <td>36</td>\n",
              "      <td>62</td>\n",
              "    </tr>\n",
              "    <tr>\n",
              "      <th>2018-04-30 23:57:43.244000+00:00</th>\n",
              "      <td>95</td>\n",
              "      <td>137</td>\n",
              "      <td>138</td>\n",
              "    </tr>\n",
              "    <tr>\n",
              "      <th>2018-04-30 23:58:45.181000+00:00</th>\n",
              "      <td>256</td>\n",
              "      <td>183</td>\n",
              "      <td>195</td>\n",
              "    </tr>\n",
              "  </tbody>\n",
              "</table>\n",
              "<p>1488658 rows × 3 columns</p>\n",
              "</div>\n",
              "      <button class=\"colab-df-convert\" onclick=\"convertToInteractive('df-e09c342a-f089-4745-a55c-1a50a616b4aa')\"\n",
              "              title=\"Convert this dataframe to an interactive table.\"\n",
              "              style=\"display:none;\">\n",
              "        \n",
              "  <svg xmlns=\"http://www.w3.org/2000/svg\" height=\"24px\"viewBox=\"0 0 24 24\"\n",
              "       width=\"24px\">\n",
              "    <path d=\"M0 0h24v24H0V0z\" fill=\"none\"/>\n",
              "    <path d=\"M18.56 5.44l.94 2.06.94-2.06 2.06-.94-2.06-.94-.94-2.06-.94 2.06-2.06.94zm-11 1L8.5 8.5l.94-2.06 2.06-.94-2.06-.94L8.5 2.5l-.94 2.06-2.06.94zm10 10l.94 2.06.94-2.06 2.06-.94-2.06-.94-.94-2.06-.94 2.06-2.06.94z\"/><path d=\"M17.41 7.96l-1.37-1.37c-.4-.4-.92-.59-1.43-.59-.52 0-1.04.2-1.43.59L10.3 9.45l-7.72 7.72c-.78.78-.78 2.05 0 2.83L4 21.41c.39.39.9.59 1.41.59.51 0 1.02-.2 1.41-.59l7.78-7.78 2.81-2.81c.8-.78.8-2.07 0-2.86zM5.41 20L4 18.59l7.72-7.72 1.47 1.35L5.41 20z\"/>\n",
              "  </svg>\n",
              "      </button>\n",
              "      \n",
              "  <style>\n",
              "    .colab-df-container {\n",
              "      display:flex;\n",
              "      flex-wrap:wrap;\n",
              "      gap: 12px;\n",
              "    }\n",
              "\n",
              "    .colab-df-convert {\n",
              "      background-color: #E8F0FE;\n",
              "      border: none;\n",
              "      border-radius: 50%;\n",
              "      cursor: pointer;\n",
              "      display: none;\n",
              "      fill: #1967D2;\n",
              "      height: 32px;\n",
              "      padding: 0 0 0 0;\n",
              "      width: 32px;\n",
              "    }\n",
              "\n",
              "    .colab-df-convert:hover {\n",
              "      background-color: #E2EBFA;\n",
              "      box-shadow: 0px 1px 2px rgba(60, 64, 67, 0.3), 0px 1px 3px 1px rgba(60, 64, 67, 0.15);\n",
              "      fill: #174EA6;\n",
              "    }\n",
              "\n",
              "    [theme=dark] .colab-df-convert {\n",
              "      background-color: #3B4455;\n",
              "      fill: #D2E3FC;\n",
              "    }\n",
              "\n",
              "    [theme=dark] .colab-df-convert:hover {\n",
              "      background-color: #434B5C;\n",
              "      box-shadow: 0px 1px 3px 1px rgba(0, 0, 0, 0.15);\n",
              "      filter: drop-shadow(0px 1px 2px rgba(0, 0, 0, 0.3));\n",
              "      fill: #FFFFFF;\n",
              "    }\n",
              "  </style>\n",
              "\n",
              "      <script>\n",
              "        const buttonEl =\n",
              "          document.querySelector('#df-e09c342a-f089-4745-a55c-1a50a616b4aa button.colab-df-convert');\n",
              "        buttonEl.style.display =\n",
              "          google.colab.kernel.accessAllowed ? 'block' : 'none';\n",
              "\n",
              "        async function convertToInteractive(key) {\n",
              "          const element = document.querySelector('#df-e09c342a-f089-4745-a55c-1a50a616b4aa');\n",
              "          const dataTable =\n",
              "            await google.colab.kernel.invokeFunction('convertToInteractive',\n",
              "                                                     [key], {});\n",
              "          if (!dataTable) return;\n",
              "\n",
              "          const docLinkHtml = 'Like what you see? Visit the ' +\n",
              "            '<a target=\"_blank\" href=https://colab.research.google.com/notebooks/data_table.ipynb>data table notebook</a>'\n",
              "            + ' to learn more about interactive tables.';\n",
              "          element.innerHTML = '';\n",
              "          dataTable['output_type'] = 'display_data';\n",
              "          await google.colab.output.renderOutput(dataTable, element);\n",
              "          const docLink = document.createElement('div');\n",
              "          docLink.innerHTML = docLinkHtml;\n",
              "          element.appendChild(docLink);\n",
              "        }\n",
              "      </script>\n",
              "    </div>\n",
              "  </div>\n",
              "  "
            ]
          },
          "metadata": {},
          "execution_count": 17
        }
      ]
    },
    {
      "cell_type": "markdown",
      "source": [
        "**Analysis**\n",
        "\n",
        "Dari tabel diatas bisa dilihat bahwa Bikeshare pertama kali digunakan di tanggal 29-08-2013 dan terakhir digunakan pada tanggal 30-04-2018"
      ],
      "metadata": {
        "id": "RLA3NLHFMEN1"
      }
    },
    {
      "cell_type": "code",
      "source": [
        "#2. Berapa lama rata-rata waktu pengguna menggunakan Bikeshare?\n",
        "df[\"Duration\"].mean()"
      ],
      "metadata": {
        "id": "iECDfceeN09e",
        "colab": {
          "base_uri": "https://localhost:8080/"
        },
        "outputId": "30adf45a-44db-4fb3-b39b-7fbb816ee4a8"
      },
      "execution_count": 18,
      "outputs": [
        {
          "output_type": "execute_result",
          "data": {
            "text/plain": [
              "1007.97207583173"
            ]
          },
          "metadata": {},
          "execution_count": 18
        }
      ]
    },
    {
      "cell_type": "markdown",
      "source": [
        "**Analysis**\n",
        "\n",
        "Dari tabel diatas bisa dilihat bahwa rata-rata pengguna Bikeshare menghabiskan waktu sekitar 1008 detik atau 16.8 menit untuk bersepeda di kota San Francisco."
      ],
      "metadata": {
        "id": "PshgP5UMPAPc"
      }
    },
    {
      "cell_type": "code",
      "source": [
        "#3. Mencari ada berapa banyak pengguna yang merupakan subscriber\n",
        "Subscription = df[\"Subscription_Type\"].value_counts()\n",
        "Subscription"
      ],
      "metadata": {
        "colab": {
          "base_uri": "https://localhost:8080/"
        },
        "id": "dmPfqCAmtAxD",
        "outputId": "3db18ff3-53a1-488c-bb9f-b0d57eb215f0"
      },
      "execution_count": 19,
      "outputs": [
        {
          "output_type": "execute_result",
          "data": {
            "text/plain": [
              "Subscriber    846837\n",
              "Customer      136809\n",
              "Name: Subscription_Type, dtype: int64"
            ]
          },
          "metadata": {},
          "execution_count": 19
        }
      ]
    },
    {
      "cell_type": "code",
      "source": [
        "#Visualisasi data menggunakan pie chart\n",
        "pc= Subscription.plot(kind='pie')\n",
        "\n",
        "pc.set_title(\"Subscription Types from 2013-2018\")"
      ],
      "metadata": {
        "colab": {
          "base_uri": "https://localhost:8080/",
          "height": 281
        },
        "id": "NGI77CYtCtmN",
        "outputId": "328ed533-8bea-4659-afda-417183aab2d7"
      },
      "execution_count": 20,
      "outputs": [
        {
          "output_type": "execute_result",
          "data": {
            "text/plain": [
              "Text(0.5, 1.0, 'Subscription Types from 2013-2018')"
            ]
          },
          "metadata": {},
          "execution_count": 20
        },
        {
          "output_type": "display_data",
          "data": {
            "text/plain": [
              "<Figure size 432x288 with 1 Axes>"
            ],
            "image/png": "[encoded data removed]"
          },
          "metadata": {}
        }
      ]
    },
    {
      "cell_type": "markdown",
      "source": [
        "**Analysis**\n",
        "\n",
        "Dari data diatas bisa dilihat bahwa dari semua pengguna aplikasi Bikeshare, terdapat 846.837 pengguna yang merupakan Subscriber dan ada 136.809 pengguna yang merupakan Customer atau hanya pengguna sesaat."
      ],
      "metadata": {
        "id": "rCnnFOyWlik6"
      }
    },
    {
      "cell_type": "code",
      "source": [
        "#4. Station di kota San Francisco yang paling banyak menjadi pilihan pengguna Bikeshare untuk memulai perjalanan mereka?\n",
        "df[\"Starting_Station\"].value_counts()"
      ],
      "metadata": {
        "colab": {
          "base_uri": "https://localhost:8080/"
        },
        "id": "vXmntEwnxd_s",
        "outputId": "ae84d2be-c343-4ef1-e58a-8f63ed339377"
      },
      "execution_count": 32,
      "outputs": [
        {
          "output_type": "execute_result",
          "data": {
            "text/plain": [
              "San Francisco Caltrain (Townsend at 4th)    72683\n",
              "San Francisco Caltrain 2 (330 Townsend)     56100\n",
              "Harry Bridges Plaza (Ferry Building)        49062\n",
              "Embarcadero at Sansome                      41137\n",
              "2nd at Townsend                             39936\n",
              "                                            ...  \n",
              "Tamien Station                                 26\n",
              "San Jose Government Center                     23\n",
              "5th S at E. San Salvador St                    19\n",
              "Sequoia Hospital                               15\n",
              "5th St at E. San Salvador St                    1\n",
              "Name: Starting_Station, Length: 379, dtype: int64"
            ]
          },
          "metadata": {},
          "execution_count": 32
        }
      ]
    },
    {
      "cell_type": "code",
      "source": [
        "df = pd.DataFrame({'Starting_Station': ['San Francisco Caltrain (Townsend at 4th)', 'San Francisco Caltrain 2 (330 Townsend)', 'Harry Bridges Plaza (Ferry Building)', 'Embarcadero at Sansome ', '2nd at Townsend'],\n",
        "                   'Selected':[72683,56100,49062,41137,39936]})\n",
        "\n",
        "selected = df['Selected']\n",
        "selected.plot.hist(title='Selected Station', color='lightblue', bins=25)  \n",
        "plt.axvline(selected.mean(), color='magenta', linestyle='dashed', linewidth=2)\n",
        "plt.axvline(selected.median(), color='green', linestyle='dashed', linewidth=2)\n",
        "plt.show()"
      ],
      "metadata": {
        "colab": {
          "base_uri": "https://localhost:8080/",
          "height": 281
        },
        "id": "hKVvAbIFkf7_",
        "outputId": "181c1783-a9c6-4fc3-b49c-c6c15d0af772"
      },
      "execution_count": 34,
      "outputs": [
        {
          "output_type": "display_data",
          "data": {
            "text/plain": [
              "<Figure size 432x288 with 1 Axes>"
            ],
            "image/png": "[encoded data removed]"
          },
          "metadata": {
            "needs_background": "light"
          }
        }
      ]
    },
    {
      "cell_type": "markdown",
      "source": [
        "Magenta line : mean dari station yang dipilih.\n",
        "\n",
        "Green line : median dari station yang dipilih."
      ],
      "metadata": {
        "id": "-m8YSvnnlm1q"
      }
    },
    {
      "cell_type": "code",
      "source": [
        "#Statistical Descriptive\n",
        "#Menggunakan Central Tendencies\n",
        "df.groupby('Starting_Station')['Duration'].mean()"
      ],
      "metadata": {
        "colab": {
          "base_uri": "https://localhost:8080/"
        },
        "id": "oNlUxs8Ik6jS",
        "outputId": "28203c3c-af1d-4f4a-a97b-d17dc42b1e58"
      },
      "execution_count": 22,
      "outputs": [
        {
          "output_type": "execute_result",
          "data": {
            "text/plain": [
              "Starting_Station\n",
              "10th Ave at E 15th St                                    1335.92\n",
              "10th St at Fallon St                                     1042.37\n",
              "11th St at Bryant St                                      809.67\n",
              "11th St at Natoma St                                      841.47\n",
              "12th St at 4th Ave                                        846.75\n",
              "                                                          ...   \n",
              "William St at 10th St                                     926.14\n",
              "Willow St at Vine St                                     1752.79\n",
              "Woolsey St at Sacramento St                               907.74\n",
              "Yerba Buena Center for the Arts (Howard St at 3rd St)    1025.33\n",
              "Yerba Buena Center of the Arts (3rd @ Howard)             943.54\n",
              "Name: Duration, Length: 379, dtype: Float64"
            ]
          },
          "metadata": {},
          "execution_count": 22
        }
      ]
    },
    {
      "cell_type": "code",
      "source": [
        "df.groupby('Starting_Station')['Duration'].median()"
      ],
      "metadata": {
        "colab": {
          "base_uri": "https://localhost:8080/"
        },
        "id": "TEY4AUG8k7sF",
        "outputId": "1ffb9835-6f43-48eb-e726-00cb8284d6f4"
      },
      "execution_count": 23,
      "outputs": [
        {
          "output_type": "execute_result",
          "data": {
            "text/plain": [
              "Starting_Station\n",
              "10th Ave at E 15th St                                     775.5\n",
              "10th St at Fallon St                                      468.0\n",
              "11th St at Bryant St                                      542.0\n",
              "11th St at Natoma St                                      548.0\n",
              "12th St at 4th Ave                                        287.0\n",
              "                                                          ...  \n",
              "William St at 10th St                                     496.0\n",
              "Willow St at Vine St                                     1245.5\n",
              "Woolsey St at Sacramento St                               423.5\n",
              "Yerba Buena Center for the Arts (Howard St at 3rd St)     592.0\n",
              "Yerba Buena Center of the Arts (3rd @ Howard)             445.0\n",
              "Name: Duration, Length: 379, dtype: Float64"
            ]
          },
          "metadata": {},
          "execution_count": 23
        }
      ]
    },
    {
      "cell_type": "code",
      "source": [
        "df.groupby('Starting_Station')['Duration'].agg(pd.Series.mode)"
      ],
      "metadata": {
        "colab": {
          "base_uri": "https://localhost:8080/"
        },
        "id": "DBK0_JAmlAPz",
        "outputId": "2e61f9e4-5949-4051-d08b-20b63092e925"
      },
      "execution_count": 24,
      "outputs": [
        {
          "output_type": "execute_result",
          "data": {
            "text/plain": [
              "Starting_Station\n",
              "10th Ave at E 15th St                                                                                  900\n",
              "10th St at Fallon St                                                                                   227\n",
              "11th St at Bryant St                                                                                   379\n",
              "11th St at Natoma St                                                                                   552\n",
              "12th St at 4th Ave                                                                                     212\n",
              "                                                                               ...                        \n",
              "William St at 10th St                                                                           [279, 358]\n",
              "Willow St at Vine St                                     [373, 383, 391, 427, 466, 467, 477, 489, 492, ...\n",
              "Woolsey St at Sacramento St                                                                            290\n",
              "Yerba Buena Center for the Arts (Howard St at 3rd St)                                                  388\n",
              "Yerba Buena Center of the Arts (3rd @ Howard)                                                          324\n",
              "Name: Duration, Length: 379, dtype: object"
            ]
          },
          "metadata": {},
          "execution_count": 24
        }
      ]
    },
    {
      "cell_type": "markdown",
      "source": [
        "**Analysis**\n",
        "\n",
        "Dari data diatas dan bila dilihat dari data Central Tendencies, San Francisco Caltrain merupakan daerah yang mempunyai jumlah pengguna aplikasi Bikeshare paling banyak di kota San Francisco."
      ],
      "metadata": {
        "id": "dGAdY1xyyIEC"
      }
    },
    {
      "cell_type": "code",
      "source": [
        "#5. Station mana yang paling banyak menjadi tempat perhentian pengguna setelah menggunakan Bikeshare?\n",
        "df[\"Ending_Station\"].value_counts()"
      ],
      "metadata": {
        "colab": {
          "base_uri": "https://localhost:8080/"
        },
        "id": "hw_SQBljyN7M",
        "outputId": "b3cb3804-acac-4505-f546-03d1589fa6b3"
      },
      "execution_count": 25,
      "outputs": [
        {
          "output_type": "execute_result",
          "data": {
            "text/plain": [
              "San Francisco Caltrain (Townsend at 4th)    92014\n",
              "San Francisco Caltrain 2 (330 Townsend)     58713\n",
              "Harry Bridges Plaza (Ferry Building)        50185\n",
              "Embarcadero at Sansome                      46197\n",
              "2nd at Townsend                             44145\n",
              "                                            ...  \n",
              "Oak St at 1st St                               27\n",
              "5th S at E. San Salvador St                    24\n",
              "San Jose Government Center                     23\n",
              "Sequoia Hospital                               14\n",
              "5th St at E. San Salvador St                    1\n",
              "Name: Ending_Station, Length: 379, dtype: int64"
            ]
          },
          "metadata": {},
          "execution_count": 25
        }
      ]
    },
    {
      "cell_type": "code",
      "source": [
        "#Line chart\n",
        "sns.displot(df.Ending_Station, kde=True, label='Ending Station')"
      ],
      "metadata": {
        "colab": {
          "base_uri": "https://localhost:8080/",
          "height": 386
        },
        "id": "aQiseCk1mYwO",
        "outputId": "93ff5796-6194-4c1c-cb19-32a5d3d78c5d"
      },
      "execution_count": 26,
      "outputs": [
        {
          "output_type": "execute_result",
          "data": {
            "text/plain": [
              "<seaborn.axisgrid.FacetGrid at 0x7f6b45ed66d0>"
            ]
          },
          "metadata": {},
          "execution_count": 26
        },
        {
          "output_type": "display_data",
          "data": {
            "text/plain": [
              "<Figure size 360x360 with 1 Axes>"
            ],
            "image/png": "[encoded data removed]"
          },
          "metadata": {
            "needs_background": "light"
          }
        }
      ]
    },
    {
      "cell_type": "markdown",
      "source": [
        "**Analysis**\n",
        "\n",
        "Dari data diatas bisa dilihat bahwa San Francisco Caltrain merupakan daerah yang paling banyak digunakan pengguna aplikasi Bikeshare sebagai tempat perhentian. Bisa juga dikatakan bahwa banyak pengguna memulai perjalanan mereka dari San Francisco Caltrain dan juga mengakhiri perjalanan mereka di San Francisco Caltrain kembali."
      ],
      "metadata": {
        "id": "0wl45jPpycXi"
      }
    },
    {
      "cell_type": "code",
      "source": [
        "#6. Apakah durasi waktu yang ditempuh pengguna Bikeshare bisa meningkat di akhir tahun 2018?\n",
        "df[\"Duration\"].mean()"
      ],
      "metadata": {
        "colab": {
          "base_uri": "https://localhost:8080/"
        },
        "id": "drlR1tbiyu5x",
        "outputId": "436621fa-6be0-4bf0-db76-e30cf4bf2c19"
      },
      "execution_count": 27,
      "outputs": [
        {
          "output_type": "execute_result",
          "data": {
            "text/plain": [
              "1007.97207583173"
            ]
          },
          "metadata": {},
          "execution_count": 27
        }
      ]
    },
    {
      "cell_type": "markdown",
      "source": [
        "Rata-rata pengguna Bikeshare menghabiskan waktu sekitar 1008 detik atau 16.8 menit untuk bersepeda di kota San Francisco dari tahun 2013 pertengahan tahun 2018. Apakah itu artinya di akhir tahun 2018, pengguna Bikeshare bisa menghabiskan waktu sampai 1200 detik atau 20 menit untuk bersepeda?\n",
        "\n",
        "H0: μ <= 1008\n",
        "\n",
        "H1: μ > 1008"
      ],
      "metadata": {
        "id": "wR8JMSty44SJ"
      }
    },
    {
      "cell_type": "code",
      "source": [
        "df['time'] = df['Duration']\n",
        "df['date'] = df['Ending_Date'].dt.date\n",
        "daily_time = df[['date','time']].groupby('date').sum()\n",
        "print('Average Time a Day for the last a year: {}'.format(np.round(daily_time['time'].mean())))"
      ],
      "metadata": {
        "colab": {
          "base_uri": "https://localhost:8080/"
        },
        "id": "357Ny76i9ST1",
        "outputId": "c58f64fe-8f04-474d-9001-f1c7a3972e33"
      },
      "execution_count": 28,
      "outputs": [
        {
          "output_type": "stream",
          "name": "stdout",
          "text": [
            "Average Time a Day for the last a year: 1395126.0\n"
          ]
        }
      ]
    },
    {
      "cell_type": "code",
      "source": [
        "daily_time"
      ],
      "metadata": {
        "colab": {
          "base_uri": "https://localhost:8080/",
          "height": 455
        },
        "id": "5jCeRSR4_tMe",
        "outputId": "7da8c136-6c5d-48d7-920a-0efbf08fa192"
      },
      "execution_count": 29,
      "outputs": [
        {
          "output_type": "execute_result",
          "data": {
            "text/plain": [
              "               time\n",
              "date               \n",
              "2013-08-29   760268\n",
              "2013-08-30  1789207\n",
              "2013-08-31  1986155\n",
              "2013-09-01  2336253\n",
              "2013-09-02  2051061\n",
              "...             ...\n",
              "2018-04-27  4729744\n",
              "2018-04-28  4624348\n",
              "2018-04-29  3936457\n",
              "2018-04-30  5104548\n",
              "2018-05-01   640348\n",
              "\n",
              "[1407 rows x 1 columns]"
            ],
            "text/html": [
              "\n",
              "  <div id=\"df-13340caf-088e-4e43-b605-405dea76cc73\">\n",
              "    <div class=\"colab-df-container\">\n",
              "      <div>\n",
              "<style scoped>\n",
              "    .dataframe tbody tr th:only-of-type {\n",
              "        vertical-align: middle;\n",
              "    }\n",
              "\n",
              "    .dataframe tbody tr th {\n",
              "        vertical-align: top;\n",
              "    }\n",
              "\n",
              "    .dataframe thead th {\n",
              "        text-align: right;\n",
              "    }\n",
              "</style>\n",
              "<table border=\"1\" class=\"dataframe\">\n",
              "  <thead>\n",
              "    <tr style=\"text-align: right;\">\n",
              "      <th></th>\n",
              "      <th>time</th>\n",
              "    </tr>\n",
              "    <tr>\n",
              "      <th>date</th>\n",
              "      <th></th>\n",
              "    </tr>\n",
              "  </thead>\n",
              "  <tbody>\n",
              "    <tr>\n",
              "      <th>2013-08-29</th>\n",
              "      <td>760268</td>\n",
              "    </tr>\n",
              "    <tr>\n",
              "      <th>2013-08-30</th>\n",
              "      <td>1789207</td>\n",
              "    </tr>\n",
              "    <tr>\n",
              "      <th>2013-08-31</th>\n",
              "      <td>1986155</td>\n",
              "    </tr>\n",
              "    <tr>\n",
              "      <th>2013-09-01</th>\n",
              "      <td>2336253</td>\n",
              "    </tr>\n",
              "    <tr>\n",
              "      <th>2013-09-02</th>\n",
              "      <td>2051061</td>\n",
              "    </tr>\n",
              "    <tr>\n",
              "      <th>...</th>\n",
              "      <td>...</td>\n",
              "    </tr>\n",
              "    <tr>\n",
              "      <th>2018-04-27</th>\n",
              "      <td>4729744</td>\n",
              "    </tr>\n",
              "    <tr>\n",
              "      <th>2018-04-28</th>\n",
              "      <td>4624348</td>\n",
              "    </tr>\n",
              "    <tr>\n",
              "      <th>2018-04-29</th>\n",
              "      <td>3936457</td>\n",
              "    </tr>\n",
              "    <tr>\n",
              "      <th>2018-04-30</th>\n",
              "      <td>5104548</td>\n",
              "    </tr>\n",
              "    <tr>\n",
              "      <th>2018-05-01</th>\n",
              "      <td>640348</td>\n",
              "    </tr>\n",
              "  </tbody>\n",
              "</table>\n",
              "<p>1407 rows × 1 columns</p>\n",
              "</div>\n",
              "      <button class=\"colab-df-convert\" onclick=\"convertToInteractive('df-13340caf-088e-4e43-b605-405dea76cc73')\"\n",
              "              title=\"Convert this dataframe to an interactive table.\"\n",
              "              style=\"display:none;\">\n",
              "        \n",
              "  <svg xmlns=\"http://www.w3.org/2000/svg\" height=\"24px\"viewBox=\"0 0 24 24\"\n",
              "       width=\"24px\">\n",
              "    <path d=\"M0 0h24v24H0V0z\" fill=\"none\"/>\n",
              "    <path d=\"M18.56 5.44l.94 2.06.94-2.06 2.06-.94-2.06-.94-.94-2.06-.94 2.06-2.06.94zm-11 1L8.5 8.5l.94-2.06 2.06-.94-2.06-.94L8.5 2.5l-.94 2.06-2.06.94zm10 10l.94 2.06.94-2.06 2.06-.94-2.06-.94-.94-2.06-.94 2.06-2.06.94z\"/><path d=\"M17.41 7.96l-1.37-1.37c-.4-.4-.92-.59-1.43-.59-.52 0-1.04.2-1.43.59L10.3 9.45l-7.72 7.72c-.78.78-.78 2.05 0 2.83L4 21.41c.39.39.9.59 1.41.59.51 0 1.02-.2 1.41-.59l7.78-7.78 2.81-2.81c.8-.78.8-2.07 0-2.86zM5.41 20L4 18.59l7.72-7.72 1.47 1.35L5.41 20z\"/>\n",
              "  </svg>\n",
              "      </button>\n",
              "      \n",
              "  <style>\n",
              "    .colab-df-container {\n",
              "      display:flex;\n",
              "      flex-wrap:wrap;\n",
              "      gap: 12px;\n",
              "    }\n",
              "\n",
              "    .colab-df-convert {\n",
              "      background-color: #E8F0FE;\n",
              "      border: none;\n",
              "      border-radius: 50%;\n",
              "      cursor: pointer;\n",
              "      display: none;\n",
              "      fill: #1967D2;\n",
              "      height: 32px;\n",
              "      padding: 0 0 0 0;\n",
              "      width: 32px;\n",
              "    }\n",
              "\n",
              "    .colab-df-convert:hover {\n",
              "      background-color: #E2EBFA;\n",
              "      box-shadow: 0px 1px 2px rgba(60, 64, 67, 0.3), 0px 1px 3px 1px rgba(60, 64, 67, 0.15);\n",
              "      fill: #174EA6;\n",
              "    }\n",
              "\n",
              "    [theme=dark] .colab-df-convert {\n",
              "      background-color: #3B4455;\n",
              "      fill: #D2E3FC;\n",
              "    }\n",
              "\n",
              "    [theme=dark] .colab-df-convert:hover {\n",
              "      background-color: #434B5C;\n",
              "      box-shadow: 0px 1px 3px 1px rgba(0, 0, 0, 0.15);\n",
              "      filter: drop-shadow(0px 1px 2px rgba(0, 0, 0, 0.3));\n",
              "      fill: #FFFFFF;\n",
              "    }\n",
              "  </style>\n",
              "\n",
              "      <script>\n",
              "        const buttonEl =\n",
              "          document.querySelector('#df-13340caf-088e-4e43-b605-405dea76cc73 button.colab-df-convert');\n",
              "        buttonEl.style.display =\n",
              "          google.colab.kernel.accessAllowed ? 'block' : 'none';\n",
              "\n",
              "        async function convertToInteractive(key) {\n",
              "          const element = document.querySelector('#df-13340caf-088e-4e43-b605-405dea76cc73');\n",
              "          const dataTable =\n",
              "            await google.colab.kernel.invokeFunction('convertToInteractive',\n",
              "                                                     [key], {});\n",
              "          if (!dataTable) return;\n",
              "\n",
              "          const docLinkHtml = 'Like what you see? Visit the ' +\n",
              "            '<a target=\"_blank\" href=https://colab.research.google.com/notebooks/data_table.ipynb>data table notebook</a>'\n",
              "            + ' to learn more about interactive tables.';\n",
              "          element.innerHTML = '';\n",
              "          dataTable['output_type'] = 'display_data';\n",
              "          await google.colab.output.renderOutput(dataTable, element);\n",
              "          const docLink = document.createElement('div');\n",
              "          docLink.innerHTML = docLinkHtml;\n",
              "          element.appendChild(docLink);\n",
              "        }\n",
              "      </script>\n",
              "    </div>\n",
              "  </div>\n",
              "  "
            ]
          },
          "metadata": {},
          "execution_count": 29
        }
      ]
    },
    {
      "cell_type": "code",
      "source": [
        "#Statistical Inferensial\n",
        "#Mencari p-value\n",
        "t_stat,p_val = stats.ttest_1samp(daily_time.time, 1008)\n",
        "print('P-value:',p_val/2) #The p-value divided by 2 since the output is two-sided p-value\n",
        "print('t-statistics:',t_stat)"
      ],
      "metadata": {
        "colab": {
          "base_uri": "https://localhost:8080/"
        },
        "id": "BQciJBIc_-Yw",
        "outputId": "4b93c1ee-cfb0-44c1-a4e9-76da66cc0678"
      },
      "execution_count": 30,
      "outputs": [
        {
          "output_type": "stream",
          "name": "stdout",
          "text": [
            "P-value: 5.535922924981988e-278\n",
            "t-statistics: 45.378550984444416\n"
          ]
        }
      ]
    },
    {
      "cell_type": "code",
      "source": [
        "daily_time_pop = np.random.normal(daily_time.time.mean(), daily_time.time.std(), 10000)\n",
        "\n",
        "ci = stats.norm.interval(0.90, daily_time.time.mean(), daily_time.time.std())\n",
        "\n",
        "plt.figure(figsize=(16,5))\n",
        "sns.distplot(daily_time_pop, label='Daily Time (User)', color='blue')\n",
        "plt.axvline(daily_time.time.mean(), color='red', linewidth=2, label='Daily Time (Mean)')\n",
        "plt.axvline(ci[1], color='green', linestyle='dashed', linewidth=2, label='confidence threshold of 95%')\n",
        "plt.axvline(daily_time_pop.mean() + t_stat*daily_time_pop.std(), color='black', linestyle='dashed', linewidth=2, label = 'Alternative Hypothesis')\n",
        "plt.legend()"
      ],
      "metadata": {
        "colab": {
          "base_uri": "https://localhost:8080/",
          "height": 416
        },
        "id": "Om99PWNlAXgf",
        "outputId": "fcfdbee8-075f-451e-cb1f-de56f98092f5"
      },
      "execution_count": 31,
      "outputs": [
        {
          "output_type": "stream",
          "name": "stderr",
          "text": [
            "/usr/local/lib/python3.8/dist-packages/seaborn/distributions.py:2619: FutureWarning: `distplot` is a deprecated function and will be removed in a future version. Please adapt your code to use either `displot` (a figure-level function with similar flexibility) or `histplot` (an axes-level function for histograms).\n",
            "  warnings.warn(msg, FutureWarning)\n"
          ]
        },
        {
          "output_type": "execute_result",
          "data": {
            "text/plain": [
              "<matplotlib.legend.Legend at 0x7f6b295ac970>"
            ]
          },
          "metadata": {},
          "execution_count": 31
        },
        {
          "output_type": "display_data",
          "data": {
            "text/plain": [
              "<Figure size 1152x360 with 1 Axes>"
            ],
            "image/png": "[encoded data removed]"
          },
          "metadata": {
            "needs_background": "light"
          }
        }
      ]
    },
    {
      "cell_type": "markdown",
      "source": [
        "Karena p-value lebih besar dari 1, maka kita bisa menolak hipotesis dan mempunyai konklusi bahwa durasi yang ditempuh pengguna Bikeshare dari tahun 2013 sampai akhir 2018 bisa meningkat."
      ],
      "metadata": {
        "id": "2hWdGV6XA9S2"
      }
    }
  ]
}